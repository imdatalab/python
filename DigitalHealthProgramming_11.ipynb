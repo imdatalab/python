{
  "nbformat": 4,
  "nbformat_minor": 0,
  "metadata": {
    "colab": {
      "provenance": []
    },
    "kernelspec": {
      "name": "python3",
      "display_name": "Python 3"
    },
    "language_info": {
      "name": "python"
    }
  },
  "cells": [
    {
      "cell_type": "code",
      "execution_count": null,
      "metadata": {
        "id": "0g53brqQBVJf"
      },
      "outputs": [],
      "source": [
        "import numpy as np\n",
        "import pandas as pd\n",
        "import matplotlib.pyplot as plt\n",
        "import seaborn as sns\n",
        "\n",
        "df = pd.read_csv('./diabetes.csv')\n",
        "df.head(10)"
      ]
    },
    {
      "cell_type": "code",
      "source": [
        "df.info()"
      ],
      "metadata": {
        "id": "dI7rwm-KEsSp"
      },
      "execution_count": null,
      "outputs": []
    },
    {
      "cell_type": "code",
      "source": [
        "df.describe()"
      ],
      "metadata": {
        "id": "6mvO5SnKEu1B"
      },
      "execution_count": null,
      "outputs": []
    },
    {
      "cell_type": "code",
      "source": [
        "from sklearn.model_selection import train_test_split\n",
        "from sklearn.metrics import accuracy_score, precision_score, recall_score, f1_score\n",
        "from sklearn.metrics import confusion_matrix, classification_report\n",
        "from sklearn.linear_model import LogisticRegression\n",
        "\n",
        "X = df.drop([\"Outcome\"], axis=1)\n",
        "y = df[\"Outcome\"]\n",
        "\n",
        "\n",
        "X_train, X_test, y_train, y_test = train_test_split(X, y, test_size=0.25, random_state=0)"
      ],
      "metadata": {
        "id": "ElqEBTRJExYd"
      },
      "execution_count": null,
      "outputs": []
    },
    {
      "cell_type": "code",
      "source": [
        "# Logistic Regression Model\n",
        "LR = LogisticRegression(max_iter=1000, random_state=42)\n",
        "\n",
        "#fiting the model\n",
        "LR.fit(X_train, y_train)\n",
        "\n",
        "#prediction\n",
        "y_pred = LR.predict(X_test)\n",
        "\n",
        "print('train_accuracy: {:.4f}'.format(LR.score(X_train, y_train)))\n",
        "print('accuracy: {:.4f}'.format(accuracy_score(y_test, y_pred)))\n",
        "print('precision: {:.4f}'.format(precision_score(y_test, y_pred)))\n",
        "print('recall: {:.4f}'.format(recall_score(y_test, y_pred)))\n",
        "print('f1-score: {:.4f}'.format(f1_score(y_test, y_pred)))\n",
        "\n",
        "conf_matrix = confusion_matrix(y_test, y_pred)\n",
        "\n",
        "plt.figure(figsize=(3, 2))\n",
        "sns.heatmap(conf_matrix, annot=True, fmt='d', cmap='Blues')\n",
        "plt.title('Confusion Matrix')\n",
        "plt.ylabel('True Label')\n",
        "plt.xlabel('Predicted Label')\n",
        "plt.show()"
      ],
      "metadata": {
        "id": "n9OdYNHME9Vm"
      },
      "execution_count": null,
      "outputs": []
    },
    {
      "cell_type": "code",
      "source": [
        "from sklearn.tree import DecisionTreeClassifier\n",
        "dt_clf = DecisionTreeClassifier()\n",
        "dt_clf.fit(X_train, y_train)\n",
        "dt_pred = dt_clf.predict(X_test)\n",
        "\n",
        "print('train_accuracy: {:.4f}'.format(dt_clf.score(X_train, y_train)))\n",
        "print('accuracy: {:.4f}'.format(accuracy_score(y_test, dt_pred)))\n",
        "print('precision: {:.4f}'.format(precision_score(y_test, dt_pred)))\n",
        "print('recall: {:.4f}'.format(recall_score(y_test, dt_pred)))\n",
        "print('f1-score: {:.4f}'.format(f1_score(y_test, dt_pred)))"
      ],
      "metadata": {
        "id": "uYncv8fwFNlm"
      },
      "execution_count": null,
      "outputs": []
    },
    {
      "cell_type": "code",
      "source": [
        "conf_matrix = confusion_matrix(y_test, dt_pred)\n",
        "plt.figure(figsize=(3, 2))\n",
        "sns.heatmap(conf_matrix, annot=True, fmt='d', cmap='Blues')\n",
        "plt.title('Confusion Matrix')\n",
        "plt.ylabel('True Label')\n",
        "plt.xlabel('Predicted Label')\n",
        "plt.show()"
      ],
      "metadata": {
        "id": "cV_3Ca_9FTAq"
      },
      "execution_count": null,
      "outputs": []
    },
    {
      "cell_type": "code",
      "source": [
        "from sklearn import tree\n",
        "plt.figure(figsize=(12,8))\n",
        "tree.plot_tree(dt_clf.fit(X_train, y_train))"
      ],
      "metadata": {
        "id": "eQPs-NcZFWD9"
      },
      "execution_count": null,
      "outputs": []
    },
    {
      "cell_type": "code",
      "source": [
        "!pip install --upgrade pip\n",
        "!pip install graphviz\n",
        "\n",
        "from sklearn.tree import export_graphviz\n",
        "import graphviz\n",
        "\n",
        "dot_data = tree.export_graphviz(dt_clf, out_file=None,\n",
        "                                feature_names=X_train.columns,\n",
        "                                class_names=[\"No Diabetes\", \"Diabetes\"],\n",
        "                                filled=True, rounded=True,\n",
        "                                special_characters=True)\n",
        "\n",
        "# Render the visualization\n",
        "graph = graphviz.Source(dot_data)\n",
        "graph"
      ],
      "metadata": {
        "id": "Twi3DyrcFcaR"
      },
      "execution_count": null,
      "outputs": []
    }
  ]
}