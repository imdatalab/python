{
  "nbformat": 4,
  "nbformat_minor": 0,
  "metadata": {
    "colab": {
      "provenance": []
    },
    "kernelspec": {
      "name": "python3",
      "display_name": "Python 3"
    },
    "language_info": {
      "name": "python"
    }
  },
  "cells": [
    {
      "cell_type": "code",
      "source": [
        "# 디지털헬스프로그래밍\n",
        "# 2025010111 고려대\n",
        "list1 = [1, 2, 3, 4, 5]\n",
        "print(list1)\n",
        "list2 = ['a', 'b', 'c']\n",
        "print(list2)\n",
        "list3 = [1, 3.14, 'a', 'python', True, [1,2,3,4,5], ['Hello', 'World!']]\n",
        "print(list3)"
      ],
      "metadata": {
        "collapsed": true,
        "id": "kziiElrNO6n9"
      },
      "execution_count": null,
      "outputs": []
    },
    {
      "cell_type": "code",
      "execution_count": null,
      "metadata": {
        "id": "S3U-YLImLk83"
      },
      "outputs": [],
      "source": [
        "list_a = [10, 3.14, 'python', True, False, [1, 2, 3], ['a', 'b', 'c']]\n",
        "print(list_a[1])\n",
        "print(list_a[2:4])\n",
        "print(list_a[:3])\n",
        "print(list_a[5:])\n",
        "list_a[4] = 50\n",
        "print(list_a)"
      ]
    },
    {
      "cell_type": "code",
      "source": [
        "list = [1, 3.14, 'a', 'python', True, [1,2,3,4,5], ['Hello', 'World!']]\n",
        "print(list[3:6])"
      ],
      "metadata": {
        "id": "KVdSutuFPJ0p"
      },
      "execution_count": null,
      "outputs": []
    },
    {
      "cell_type": "code",
      "source": [
        "city = 'seoul'\n",
        "print(city)\n",
        "print(city[::2])\n",
        "print(city[::3])\n",
        "print(city[::-1])\n",
        "cities = ['서울', '부산', '인천', '대구', '광주', '울산']\n",
        "print(cities)\n",
        "print(cities[::2])\n",
        "print(cities[::3])\n",
        "print(cities[::-1])"
      ],
      "metadata": {
        "id": "ahI6oANJPMmG"
      },
      "execution_count": null,
      "outputs": []
    },
    {
      "cell_type": "code",
      "source": [
        "navi_voices = ['', '잠시 후', '어린이 보호', '좌회전', '우회전', '직진', '유턴', '단속', '구역', '입니다.', '하십시오.', '100m']\n",
        "navi_agent = 'u_turn'\n",
        "\n",
        "if navi_agent == 'left_turn':\n",
        "    print(navi_voices[1], navi_voices[3], navi_voices[10])\n",
        "elif navi_agent == 'right_turn':\n",
        "    print(navi_voices[1], navi_voices[4], navi_voices[10])\n",
        "elif navi_agent == 'u_turn':\n",
        "    print(navi_voices[1], navi_voices[6], navi_voices[10])\n",
        "elif navi_agent == 'school':\n",
        "    print(navi_voices[1], navi_voices[2], navi_voices[8], navi_voices[9])"
      ],
      "metadata": {
        "id": "2ogbdEszPOaY"
      },
      "execution_count": null,
      "outputs": []
    },
    {
      "cell_type": "code",
      "source": [
        "cities1 = ['서울', '인천', '수원']\n",
        "cities2 = ['부산', '대전', '대구', '광주', '울산']\n",
        "print(cities1 + cities2)\n",
        "print(cities1[0:1] + cities2[2:4])\n",
        "cites3 = cities1 + cities2\n",
        "print(cites3)\n",
        "print(cites3[1:5])"
      ],
      "metadata": {
        "id": "Zm2qvNKbPQ8-"
      },
      "execution_count": null,
      "outputs": []
    },
    {
      "cell_type": "code",
      "source": [
        "fruits = ['사과', '바나나', '망고', '딸기']\n",
        "print(fruits * 2)\n",
        "print(fruits[1:3] * 3)\n",
        "print('딸기' in fruits)\n",
        "print('포도' in fruits)"
      ],
      "metadata": {
        "id": "K0nzQmhgPS5U"
      },
      "execution_count": null,
      "outputs": []
    },
    {
      "cell_type": "code",
      "source": [
        "fruits = ['사과', '바나나', '망고', '딸기']\n",
        "fruits.append('포도')\n",
        "print(fruits)\n",
        "fruits.extend(['배', '감'])\n",
        "print(fruits)\n",
        "fruits.insert(1,\"밤\")\n",
        "print(fruits)\n",
        "fruits.remove('딸기')\n",
        "print(fruits)\n",
        "del fruits[0]\n",
        "print(fruits)"
      ],
      "metadata": {
        "id": "sKbLcoR2PU0y"
      },
      "execution_count": null,
      "outputs": []
    },
    {
      "cell_type": "code",
      "source": [
        "print(fruits)\n",
        "fruits.pop(2)\n",
        "print(fruits)\n",
        "fruits.sort()\n",
        "print(fruits)\n",
        "print('멜론' not in fruits)\n",
        "print('포도' not in fruits)\n",
        "fruits.clear()\n",
        "print(fruits)"
      ],
      "metadata": {
        "id": "MZkQKnYzPXCh"
      },
      "execution_count": null,
      "outputs": []
    },
    {
      "cell_type": "code",
      "source": [
        "kor = [56, 67, 88]\n",
        "eng = [45, 76, 77]\n",
        "total = [kor, eng]\n",
        "print(total)\n",
        "print(total[0][0])\n",
        "print(total[1][2])\n",
        "total[1][1] = 100\n",
        "print(total)\n",
        "print(eng)"
      ],
      "metadata": {
        "id": "E8xV9nNZPbH4"
      },
      "execution_count": null,
      "outputs": []
    },
    {
      "cell_type": "code",
      "source": [
        "math = [40, 93, 57, 31, 85, 72, 64]\n",
        "math.sort()\n",
        "print(\"수학 점수 정렬:\", math)\n",
        "print(\"응시 인원:\", len(math))\n",
        "print(\"수학 총점:\", sum(math))\n",
        "math_avg = sum(math)/len(math)\n",
        "print(\"수학 평균: \", math_avg)"
      ],
      "metadata": {
        "id": "mZ7Dp_HoPb8Y"
      },
      "execution_count": null,
      "outputs": []
    },
    {
      "cell_type": "code",
      "source": [
        "print(\"kor[0]주소: \", id(kor[0]))\n",
        "print(\"kor[1]주소: \", id(kor[1]))\n",
        "print(\"kor[2]주소: \", id(kor[2]))\n",
        "print(\"---------------\")\n",
        "print(\"eng[0]주소: \", id(eng[0]))\n",
        "print(\"eng[1]주소: \", id(eng[1]))\n",
        "print(\"eng[2]주소: \", id(eng[2]))\n",
        "print(\"---------------\")\n",
        "print(\"total[0][0]주소: \", id(total[0][0]))\n",
        "print(\"total[1][0]주소: \",id(total[1][0]))"
      ],
      "metadata": {
        "id": "4iSlkf1ePd8a"
      },
      "execution_count": null,
      "outputs": []
    },
    {
      "cell_type": "code",
      "source": [
        "a = [1, 2, 3, 4]\n",
        "b = [*a, *a]\n",
        "print(b)\n",
        "c = [*b, 5]\n",
        "print(c)\n",
        "print(a)"
      ],
      "metadata": {
        "id": "3HoNxkRKPn7v"
      },
      "execution_count": null,
      "outputs": []
    },
    {
      "cell_type": "code",
      "source": [
        "# 리스트 문제1\n"
      ],
      "metadata": {
        "id": "98TkzBm8SpyT"
      },
      "execution_count": null,
      "outputs": []
    },
    {
      "cell_type": "code",
      "source": [
        "kor = (56, 67, 88)\n",
        "eng = (45, 76, 77)\n",
        "total = (kor, eng)\n",
        "print(total)\n",
        "print(total[0][0])\n",
        "print(total[1][2])\n",
        "total[1][1] = 100\n",
        "print(total)"
      ],
      "metadata": {
        "id": "ghNS_tnTP3zW"
      },
      "execution_count": null,
      "outputs": []
    },
    {
      "cell_type": "code",
      "source": [
        "tel_info = {'홍길동': '010-1111-2222',\n",
        "           '이순신': '010-2222-2222',\n",
        "           '장보고': '010-3333-3333'}\n",
        "print(tel_info)\n",
        "print(tel_info['이순신'])\n",
        "# 딕셔너리 값 수정 및 데이터 추가\n",
        "tel_info['이순신'] = '010-1234-5678'\n",
        "print(tel_info['이순신'])\n",
        "tel_info['김유신'] = '010-5555-5555'\n",
        "print(tel_info)"
      ],
      "metadata": {
        "id": "9cGzh65-QERg"
      },
      "execution_count": null,
      "outputs": []
    },
    {
      "cell_type": "code",
      "source": [
        "student = {\n",
        "    'name': \"홍길동\",\n",
        "    'id': 2024111222,\n",
        "    'dept': \"의료정보학과\",\n",
        "    'GPA': 3.8\n",
        "}\n",
        "print('name:', student['name'])\n",
        "student['GPA'] = 4.1\n",
        "print(student)\n",
        "student['age'] = 21\n",
        "print(student)"
      ],
      "metadata": {
        "id": "Y5mWoXDwQHnr"
      },
      "execution_count": null,
      "outputs": []
    },
    {
      "cell_type": "code",
      "source": [
        "error = {\n",
        "    name : \"홍길동\",\n",
        "    id : 2024111222\n",
        "}\n",
        "print(error)"
      ],
      "metadata": {
        "id": "F_TnLPIzQKMt"
      },
      "execution_count": null,
      "outputs": []
    },
    {
      "cell_type": "code",
      "source": [
        "print(tel_info.keys())    # 키만 확인\n",
        "print(tel_info.values())  # 값만 확인\n",
        "print(tel_info.items())  # 키-값만 확인\n",
        "print(student.keys())\n",
        "print(student.values())\n",
        "print(student.items())\n",
        "print('장보고' in tel_info.keys())\n",
        "print('010-3333-3333' in tel_info.values())\n",
        "del tel_info['홍길동']\n",
        "print(tel_info)"
      ],
      "metadata": {
        "id": "ezu1ihntQPLO"
      },
      "execution_count": null,
      "outputs": []
    },
    {
      "cell_type": "code",
      "source": [
        "# 딕셔너리 문제2\n",
        ""
      ],
      "metadata": {
        "id": "LYp2XWdaQUzF"
      },
      "execution_count": null,
      "outputs": []
    },
    {
      "cell_type": "code",
      "source": [
        "# 딕셔너리 문제3\n"
      ],
      "metadata": {
        "id": "B7YYpjMKQbgO"
      },
      "execution_count": null,
      "outputs": []
    },
    {
      "cell_type": "code",
      "source": [
        "# 딕셔너리 문제3-1\n"
      ],
      "metadata": {
        "id": "k8DQOCM6QflB"
      },
      "execution_count": null,
      "outputs": []
    },
    {
      "cell_type": "code",
      "source": [
        "# 딕셔너리 문제3-2\n"
      ],
      "metadata": {
        "id": "pwf8hH5gQmS5"
      },
      "execution_count": null,
      "outputs": []
    },
    {
      "cell_type": "code",
      "source": [
        "str = 'Korea'\n",
        "for i in str:\n",
        "    print(i)"
      ],
      "metadata": {
        "id": "3kfC3VzCTTV8"
      },
      "execution_count": null,
      "outputs": []
    },
    {
      "cell_type": "code",
      "source": [
        "for i in 'Korea':\n",
        "    print(i)"
      ],
      "metadata": {
        "id": "1c0T4e__TUMn"
      },
      "execution_count": null,
      "outputs": []
    },
    {
      "cell_type": "code",
      "source": [
        "for i in ['a', 'b', 1, 2, 'Korea']:\n",
        "    print(i)"
      ],
      "metadata": {
        "id": "bVQtO7nWTVoa"
      },
      "execution_count": null,
      "outputs": []
    },
    {
      "cell_type": "code",
      "source": [
        "str = 'Korea'\n",
        "for i in [1, 2, 3, 4, 5]:\n",
        "    print(str)"
      ],
      "metadata": {
        "id": "FlMShk_6TYMl"
      },
      "execution_count": null,
      "outputs": []
    },
    {
      "cell_type": "code",
      "source": [
        "list = [1, 2, 3, 4, 5]\n",
        "for i in list:\n",
        "    print('*' * i)"
      ],
      "metadata": {
        "id": "tXSur-yOTZng"
      },
      "execution_count": null,
      "outputs": []
    },
    {
      "cell_type": "code",
      "source": [
        "for i in range(100):\n",
        "    print(i)"
      ],
      "metadata": {
        "id": "NnvVIPtlTbnq"
      },
      "execution_count": null,
      "outputs": []
    },
    {
      "cell_type": "code",
      "source": [
        "for i in range(0, 100, 10):\n",
        "    print(i)"
      ],
      "metadata": {
        "id": "QK26rk_KTc__"
      },
      "execution_count": null,
      "outputs": []
    },
    {
      "cell_type": "code",
      "source": [
        "for i in range(0, 10):\n",
        "    print(i)"
      ],
      "metadata": {
        "id": "onuhAhHrTfia"
      },
      "execution_count": null,
      "outputs": []
    },
    {
      "cell_type": "code",
      "source": [
        "for i in range(10):\n",
        "    print(i)"
      ],
      "metadata": {
        "id": "vpNjtlVwThPc"
      },
      "execution_count": null,
      "outputs": []
    },
    {
      "cell_type": "code",
      "source": [
        "for i in range(9, 0, -1):\n",
        "    print('9 * %d = %d'%(i, 9*i))"
      ],
      "metadata": {
        "id": "bt1Yxi6nTjoO"
      },
      "execution_count": null,
      "outputs": []
    },
    {
      "cell_type": "code",
      "source": [
        "sum = 0\n",
        "for i in range(1, 101, 2):\n",
        "    sum +=i\n",
        "print(sum)"
      ],
      "metadata": {
        "id": "MmmzN8KsTpmQ"
      },
      "execution_count": null,
      "outputs": []
    },
    {
      "cell_type": "code",
      "source": [
        "for i in range(1, 10):\n",
        "    print('2 * %d = %2d'%(i, i*2))"
      ],
      "metadata": {
        "id": "waAIiIcRTqJb"
      },
      "execution_count": null,
      "outputs": []
    },
    {
      "cell_type": "code",
      "source": [
        "for i in range(0, 6):\n",
        "    print('*' * i)"
      ],
      "metadata": {
        "id": "2KxT7sVzTsM6"
      },
      "execution_count": null,
      "outputs": []
    },
    {
      "cell_type": "code",
      "source": [
        "for i in range(2, 10):\n",
        "    for j in range(1, 10):\n",
        "        print('%d * %d = %2d'%(i, j, i*j))"
      ],
      "metadata": {
        "id": "52KXfMqHTt-I"
      },
      "execution_count": null,
      "outputs": []
    },
    {
      "cell_type": "code",
      "source": [
        "for i in range(1, 6):\n",
        "    for j in range(5-i):\n",
        "        print(' ', end='')\n",
        "    for k in range(2*i-1):\n",
        "        print('*', end='')\n",
        "    print()"
      ],
      "metadata": {
        "id": "5KImJoqmTv4g"
      },
      "execution_count": null,
      "outputs": []
    },
    {
      "cell_type": "code",
      "source": [
        "# 반복문 문제1\n"
      ],
      "metadata": {
        "id": "-CIXjDerTyOg"
      },
      "execution_count": null,
      "outputs": []
    },
    {
      "cell_type": "code",
      "source": [
        "count = 1\n",
        "while count < 10:\n",
        "    print(count)\n",
        "    count +=1"
      ],
      "metadata": {
        "id": "lupwayrjTz88"
      },
      "execution_count": null,
      "outputs": []
    },
    {
      "cell_type": "code",
      "source": [
        "for i in range(10):\n",
        "    print(i)"
      ],
      "metadata": {
        "id": "4mQpYwCTT2Zt"
      },
      "execution_count": null,
      "outputs": []
    },
    {
      "cell_type": "code",
      "source": [
        "i = 0\n",
        "while i < 10:\n",
        "    print(i)\n",
        "    i+=1"
      ],
      "metadata": {
        "id": "FKbRG88pULQk"
      },
      "execution_count": null,
      "outputs": []
    },
    {
      "cell_type": "code",
      "source": [
        "for i in [1, 2, 3, 4, 5]:\n",
        "    if i==5:\n",
        "        break\n",
        "    print(i)"
      ],
      "metadata": {
        "id": "aF7odxytUMFA"
      },
      "execution_count": null,
      "outputs": []
    },
    {
      "cell_type": "code",
      "source": [
        "i=1\n",
        "while i<=5:\n",
        "    if i==5:\n",
        "        break\n",
        "    print(i)\n",
        "    i+=1"
      ],
      "metadata": {
        "id": "KWxSXGFCUOHo"
      },
      "execution_count": null,
      "outputs": []
    },
    {
      "cell_type": "code",
      "source": [
        "for i in range(5):\n",
        "    print(i)\n",
        "else:\n",
        "    print('반복문이 종료되었습니다.')"
      ],
      "metadata": {
        "id": "ZVI82er8UScQ"
      },
      "execution_count": null,
      "outputs": []
    },
    {
      "cell_type": "code",
      "source": [
        "for i in range(5):\n",
        "    if i>=4:\n",
        "        break\n",
        "    else:\n",
        "        print(i)\n",
        "else:\n",
        "    print('반복문이 종료되었습니다.')"
      ],
      "metadata": {
        "id": "1FcwtGJKUS_J"
      },
      "execution_count": null,
      "outputs": []
    },
    {
      "cell_type": "code",
      "source": [
        "# 반복문 문제3\n"
      ],
      "metadata": {
        "id": "sSwN0EAlUVHj"
      },
      "execution_count": null,
      "outputs": []
    },
    {
      "cell_type": "code",
      "source": [
        "# 반복문 문제3\n"
      ],
      "metadata": {
        "id": "PRoaGo3rUXKU"
      },
      "execution_count": null,
      "outputs": []
    }
  ]
}