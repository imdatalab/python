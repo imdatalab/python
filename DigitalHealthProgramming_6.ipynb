{
  "nbformat": 4,
  "nbformat_minor": 0,
  "metadata": {
    "colab": {
      "provenance": []
    },
    "kernelspec": {
      "name": "python3",
      "display_name": "Python 3"
    },
    "language_info": {
      "name": "python"
    }
  },
  "cells": [
    {
      "cell_type": "code",
      "source": [
        "import random\n",
        "\n",
        "SIZE = 5\n",
        "pyList = [[random.randint(0,100) for _ in range(SIZE)] for _ in range(SIZE)]\n",
        "\n",
        "for i in range(SIZE):\n",
        "    for j in range(SIZE):\n",
        "        print(\"%3d\" % pyList[i][j], end=' ')\n",
        "    print()\n",
        "print()\n",
        "\n",
        "for i in range(SIZE):\n",
        "    for j in range(SIZE):\n",
        "        pyList[i][j] += 100\n",
        "        print(\"%3d\" % pyList[i][j], end=' ')\n",
        "    print()"
      ],
      "metadata": {
        "id": "RgtrbslByH48",
        "collapsed": true
      },
      "execution_count": null,
      "outputs": []
    },
    {
      "cell_type": "code",
      "source": [
        "import numpy as np\n",
        "\n",
        "## 넘파이 2차원 배열 생성\n",
        "SIZE = 5\n",
        "numpyAry = np.random.randint(0, 100, size=(SIZE, SIZE))\n",
        "print(numpyAry)\n",
        "print()\n",
        "\n",
        "## 배열에 100을 더하기\n",
        "numpyAry += 100\n",
        "print(numpyAry)"
      ],
      "metadata": {
        "id": "hrBOVc8Xy83k"
      },
      "execution_count": null,
      "outputs": []
    },
    {
      "cell_type": "code",
      "source": [
        "import numpy as np\n",
        "ary = np.random.randint(0, 255, size=(2, 3))\n",
        "ary"
      ],
      "metadata": {
        "id": "erjb2-8R1fSg"
      },
      "execution_count": null,
      "outputs": []
    },
    {
      "cell_type": "code",
      "source": [
        "import numpy as np\n",
        "arr = np.random.randint(0, 255, size=(2, 3))\n",
        "print(arr.dtype)\n",
        "print(arr.ndim)\n",
        "arr.shape"
      ],
      "metadata": {
        "id": "1xos9xT_1qFU"
      },
      "execution_count": null,
      "outputs": []
    },
    {
      "cell_type": "code",
      "source": [
        "import numpy as np\n",
        "arr1 = np.array([[1,2],[3,4]])\n",
        "print(arr1)\n",
        "arr1+100"
      ],
      "metadata": {
        "id": "wjgh3Uvq2ChF"
      },
      "execution_count": null,
      "outputs": []
    },
    {
      "cell_type": "code",
      "source": [
        "import numpy as np\n",
        "arr2 = np.array([[1,2,3],[4,5,6]])\n",
        "print(arr2)\n",
        "arr2*3"
      ],
      "metadata": {
        "id": "DHAoFsO42PUX"
      },
      "execution_count": null,
      "outputs": []
    },
    {
      "cell_type": "code",
      "source": [
        "import numpy as np\n",
        "ary = np.arange(10)\n",
        "print(ary)\n",
        "ary[0] = 100\n",
        "print(ary)\n",
        "ary_sub1 = ary[3:7]\n",
        "print(ary_sub1)\n",
        "ary[7:] = 10\n",
        "print(ary)"
      ],
      "metadata": {
        "id": "s5AaZ4at2c2i"
      },
      "execution_count": null,
      "outputs": []
    },
    {
      "cell_type": "code",
      "source": [
        "import numpy as np\n",
        "ary3 = np.random.randint(0, 10, size=(3,3))\n",
        "print(ary3)\n",
        "print(ary3.sum())\n",
        "print(ary3.sum(axis=0))\n",
        "print(ary3.sum(axis=1))"
      ],
      "metadata": {
        "id": "-yFRCSQNEXdc"
      },
      "execution_count": null,
      "outputs": []
    },
    {
      "cell_type": "code",
      "source": [
        "import numpy as np\n",
        "ary4 = np.random.randint(0, 100, size=10)\n",
        "print(ary4)\n",
        "print(np.sort(ary4))\n",
        "print(np.sum(ary4))\n",
        "print(np.max(ary4))\n",
        "print(np.min(ary4))\n",
        "print(np.mean(ary4))\n",
        "print((ary4<30).sum()) # 값이 30보다 작은 항목의 개수"
      ],
      "metadata": {
        "id": "ICXXmyliEyvc"
      },
      "execution_count": null,
      "outputs": []
    },
    {
      "cell_type": "code",
      "source": [
        "import pandas as pd\n",
        "data = {'이름':['박두칠','김산','강성민','주여진','안기철'],\n",
        "        '나이':[50, 30, 40, 30, 60],\n",
        "        '혈액형':['O','A','B','AB','A']}\n",
        "df = pd.DataFrame(data)\n",
        "df"
      ],
      "metadata": {
        "id": "ppBlOFbuG8Fa"
      },
      "execution_count": null,
      "outputs": []
    },
    {
      "cell_type": "code",
      "source": [
        "df2 = pd.DataFrame(data, index=['하나','둘','셋','넷','다섯'])\n",
        "print(df2)\n",
        "print(df2.index)\n",
        "print(df2.columns)"
      ],
      "metadata": {
        "id": "qVVE9ZnDHiNq"
      },
      "execution_count": null,
      "outputs": []
    },
    {
      "cell_type": "code",
      "source": [
        "st_two=df2.loc[['둘','넷']]\n",
        "print(st_two)\n",
        "print(df2.loc['하나']['이름'])\n",
        "print(df2.loc['하나','이름'])\n",
        "print(df2.iloc[2][0])\n",
        "print(df2.iloc[2,0])"
      ],
      "metadata": {
        "id": "Zn5UYq98H418"
      },
      "execution_count": null,
      "outputs": []
    },
    {
      "cell_type": "code",
      "source": [
        "st_name = df2['이름']\n",
        "print(st_name)\n",
        "st_name.name = 'Name'\n",
        "st_name"
      ],
      "metadata": {
        "id": "4U7a7T3-Ikuo"
      },
      "execution_count": null,
      "outputs": []
    },
    {
      "cell_type": "code",
      "source": [
        "df2['키']  = [178, 175, 175, 165, 168]\n",
        "df2"
      ],
      "metadata": {
        "id": "tfm5OdCpI03U"
      },
      "execution_count": null,
      "outputs": []
    },
    {
      "cell_type": "code",
      "source": [
        "df2.insert(2, '학력', ['고졸', '박사', '대졸', '대졸', '중졸'])\n",
        "df2"
      ],
      "metadata": {
        "id": "YLOUYMIAJAy9"
      },
      "execution_count": null,
      "outputs": []
    },
    {
      "cell_type": "code",
      "source": [
        "df2.loc['여섯'] = ['정한민', 30, '박사', 'B', '180']\n",
        "df2"
      ],
      "metadata": {
        "id": "alCo_RhcJOVt"
      },
      "execution_count": null,
      "outputs": []
    },
    {
      "cell_type": "code",
      "source": [
        "df2 = df2.drop('키', axis=1)\n",
        "df2 = df2.drop('여섯', axis=0)\n",
        "df2"
      ],
      "metadata": {
        "id": "EJUwnSbNJhZU"
      },
      "execution_count": null,
      "outputs": []
    },
    {
      "cell_type": "markdown",
      "source": [
        "# 시각화 실습"
      ],
      "metadata": {
        "id": "G8l7QxrkEQEi"
      }
    },
    {
      "cell_type": "code",
      "execution_count": null,
      "metadata": {
        "id": "cY5L6FLdrC_v"
      },
      "outputs": [],
      "source": [
        "import matplotlib.pyplot as plt\n",
        "xdata = [1, 2, 3, 4]\n",
        "ydata = [5, 6, 7, 8]\n",
        "plt.plot(xdata, ydata)\n",
        "plt.show()"
      ]
    },
    {
      "cell_type": "code",
      "source": [
        "plt.rc('font', family='NanumBarunGothic')\n",
        "\n",
        "import matplotlib.pyplot as plt\n",
        "plt.title('선 그래프 만들기')\n",
        "data1 = [2, 3, 4, 5]\n",
        "data2 = [4, 3, 2, 1]\n",
        "plt.plot(data1, label='증가')\n",
        "plt.plot(data2, label='감소')\n",
        "plt.legend()\n",
        "plt.show()"
      ],
      "metadata": {
        "id": "kUuIEDQAr_c2"
      },
      "execution_count": null,
      "outputs": []
    },
    {
      "cell_type": "code",
      "source": [
        "import matplotlib.pyplot as plt\n",
        "plt.title('선 그래프 만들기')\n",
        "data1 = [2, 3, 4, 5]\n",
        "data2 = [4, 3, 2, 1]\n",
        "plt.plot(data1, label='Dotted', color='red', linestyle=':')\n",
        "plt.plot(data2, label='Dashed', color='blue', linestyle='--')\n",
        "plt.xlabel('X data')\n",
        "plt.ylabel('Y data')\n",
        "plt.legend()\n",
        "plt.show()"
      ],
      "metadata": {
        "id": "E45a-0-jsDB9"
      },
      "execution_count": null,
      "outputs": []
    },
    {
      "cell_type": "code",
      "source": [
        "import matplotlib.pyplot as plt\n",
        "plt.title('X & Y 범위')\n",
        "xdata = [10, 20, 30, 40]\n",
        "ydata = [-2, 1, 4, 8]\n",
        "plt.plot(xdata, ydata, color='g', linestyle='-.', marker='^', markersize=10)\n",
        "plt.xlim(0, 50)\n",
        "plt.ylim(-5, 10)\n",
        "plt.show()"
      ],
      "metadata": {
        "id": "haohD_IZsGIk"
      },
      "execution_count": null,
      "outputs": []
    },
    {
      "cell_type": "code",
      "source": [
        "pip install openpyxl"
      ],
      "metadata": {
        "id": "OtCSaw48sJek"
      },
      "execution_count": null,
      "outputs": []
    },
    {
      "cell_type": "code",
      "source": [
        "import pandas as pd\n",
        "import matplotlib.pyplot as plt\n",
        "data = pd.read_excel('AirKorea-PM.xlsx', index_col='area')\n",
        "data2019 = data[2019]\n",
        "data2019"
      ],
      "metadata": {
        "id": "buk3TL9zsLrq"
      },
      "execution_count": null,
      "outputs": []
    },
    {
      "cell_type": "code",
      "source": [
        "plt.figure(figsize=(15,4))\n",
        "plt.plot(data2019, color='b', marker='o')\n",
        "plt.xlabel('지역')\n",
        "plt.ylabel('미세먼지 농도')\n",
        "plt.title('2019년 미세먼지 농도 ')\n",
        "plt.grid()\n",
        "plt.show()"
      ],
      "metadata": {
        "id": "0oSbLMVlsPqy"
      },
      "execution_count": null,
      "outputs": []
    },
    {
      "cell_type": "code",
      "source": [
        "plt.figure(figsize=(15,4))\n",
        "\n",
        "for year in range(2015, 2020):\n",
        "    chartdata = data[year]\n",
        "    plt.plot(chartdata, marker='o', label=year)\n",
        "plt.xlabel('지역')\n",
        "plt.ylabel('미세먼지 농도')\n",
        "plt.title('2015년 ~ 2019년 미세먼지 농도')\n",
        "plt.legend()\n",
        "plt.grid()\n",
        "plt.show()"
      ],
      "metadata": {
        "id": "UWXgN8SqsST3"
      },
      "execution_count": null,
      "outputs": []
    },
    {
      "cell_type": "code",
      "source": [
        "data2018 = data[2018]\n",
        "plt.figure(figsize=(15,4))\n",
        "plt.bar(data2018.index, data2018, color='m')\n",
        "plt.ylim(20,50)\n",
        "plt.xlabel('지역')\n",
        "plt.ylabel('미세먼지 농도')\n",
        "plt.title('2018년 미세먼지 막대 그래프')\n",
        "plt.grid()\n",
        "plt.show()"
      ],
      "metadata": {
        "id": "0wiwiPswsUoI"
      },
      "execution_count": null,
      "outputs": []
    },
    {
      "cell_type": "code",
      "source": [
        "import numpy as np\n",
        "index = np.arange(4)\n",
        "data = pd.read_excel('AirKorea-PM.xlsx', index_col='area')\n",
        "plt.figure(figsize=(15,4))\n",
        "data4 = data.loc['Seoul':'Busan', 2016:2019]\n",
        "for year in range(2016, 2020):\n",
        "    chartdata = data4[year]\n",
        "    plt.bar(index, chartdata, width=0.2, label=year)\n",
        "    index = index + 0.2\n",
        "plt.ylim(20,55)\n",
        "plt.xlabel('지역')\n",
        "plt.ylabel('미세먼지 농도')\n",
        "plt.xticks(index-0.5, ['Seoul', 'Gyeonggi', 'Incheon', 'Busan'])\n",
        "plt.title('2016년 ~ 2019년 미세먼지 농도')\n",
        "plt.legend()\n",
        "plt.grid()\n",
        "plt.show()"
      ],
      "metadata": {
        "id": "Et4KSKRosXfZ"
      },
      "execution_count": null,
      "outputs": []
    },
    {
      "cell_type": "code",
      "source": [
        "index = np.arange(4)\n",
        "plt.figure(figsize=(10,4))\n",
        "data4 = data.loc['Seoul':'Busan', 2016:2019]\n",
        "for year in range(2016, 2020):\n",
        "    chartdata = data4[year]\n",
        "    plt.barh(index, chartdata, label=year)\n",
        "plt.xlim(30,55)\n",
        "plt.ylabel('지역')\n",
        "plt.xlabel('미세먼지 농도')\n",
        "plt.yticks(index, ['서울', '경기', '인천', '부산'])\n",
        "plt.title('2016년 ~ 2019년 미세먼지 누적 농도')\n",
        "plt.legend()\n",
        "plt.show()"
      ],
      "metadata": {
        "id": "FT18827ysZ90"
      },
      "execution_count": null,
      "outputs": []
    }
  ]
}