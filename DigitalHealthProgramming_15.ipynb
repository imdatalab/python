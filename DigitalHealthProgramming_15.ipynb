{
  "nbformat": 4,
  "nbformat_minor": 0,
  "metadata": {
    "colab": {
      "provenance": []
    },
    "kernelspec": {
      "name": "python3",
      "display_name": "Python 3"
    },
    "language_info": {
      "name": "python"
    }
  },
  "cells": [
    {
      "cell_type": "code",
      "execution_count": null,
      "metadata": {
        "id": "tXIm-sJFNMbP"
      },
      "outputs": [],
      "source": [
        "import numpy as np\n",
        "import pandas as pd\n",
        "import matplotlib.pyplot as plt\n",
        "import seaborn as sns\n",
        "from sklearn.preprocessing import MinMaxScaler,LabelEncoder\n",
        "from sklearn.metrics import confusion_matrix, classification_report\n",
        "from sklearn.model_selection import train_test_split\n",
        "\n",
        "import warnings\n",
        "warnings.filterwarnings(\"ignore\")\n",
        "df = pd.read_csv('/content/wisconsin_data.csv')\n",
        "df.head()\n",
        "\n",
        "df.drop(columns=['id','Unnamed: 32'],inplace=True)\n",
        "df.info()\n",
        "\n",
        "X=df.drop(columns=['diagnosis'])\n",
        "y=df['diagnosis']\n",
        "\n",
        "scaler=MinMaxScaler()\n",
        "X=scaler.fit_transform(X)\n",
        "\n",
        "encoder=LabelEncoder()\n",
        "y=encoder.fit_transform(y)\n",
        "\n",
        "X_train , X_test , y_train , y_test = train_test_split(X,y ,test_size=0.2 ,shuffle=True, random_state=42)\n"
      ]
    },
    {
      "cell_type": "code",
      "source": [
        "from tensorflow.keras.models import Sequential\n",
        "from tensorflow.keras.layers import Dense, Dropout\n",
        "\n",
        "ANN=Sequential([\n",
        "    Dense(16, activation='relu',input_dim=30),\n",
        "    Dense(8, activation='relu'),\n",
        "    Dense(1, activation='sigmoid')\n",
        "])\n",
        "\n",
        "ANN.compile(optimizer='adam',loss='binary_crossentropy', metrics=['accuracy'])\n",
        "ANN.summary()"
      ],
      "metadata": {
        "id": "nGZCJ5FnP5Kd"
      },
      "execution_count": null,
      "outputs": []
    },
    {
      "cell_type": "code",
      "source": [
        "history = ANN.fit(X_train, y_train, epochs=100, validation_split=0.2)"
      ],
      "metadata": {
        "id": "zaifYXisQRjZ"
      },
      "execution_count": null,
      "outputs": []
    },
    {
      "cell_type": "code",
      "source": [
        "tr_acc = history.history['accuracy']\n",
        "tr_loss = history.history['loss']\n",
        "val_acc = history.history['val_accuracy']\n",
        "val_loss = history.history['val_loss']\n",
        "epochs = [i+1 for i in range(len(tr_acc))]\n",
        "plt.figure(figsize=(20, 8))\n",
        "plt.subplot(1, 2, 1)\n",
        "plt.plot(epochs, tr_loss, 'r', label='Train Loss')\n",
        "plt.plot(epochs, val_loss, 'g', label='Valid Loss')\n",
        "plt.title('Loss')\n",
        "plt.legend()\n",
        "plt.xlabel('Epochs')\n",
        "plt.ylabel('Loss')\n",
        "\n",
        "plt.subplot(1, 2, 2)\n",
        "plt.plot(epochs, tr_acc, 'r', label='Train Accuracy')\n",
        "plt.plot(epochs, val_acc, 'g', label='Valid Accuracy')\n",
        "plt.title('Accuracy')\n",
        "plt.legend()\n",
        "plt.xlabel('Epochs')\n",
        "plt.ylabel('Accuracy')\n",
        "plt.tight_layout()\n",
        "plt.show()"
      ],
      "metadata": {
        "id": "0dm5qVe3QgG5"
      },
      "execution_count": null,
      "outputs": []
    },
    {
      "cell_type": "code",
      "source": [
        "y_pred=ANN.predict(X_test)\n",
        "y_pred = (y_pred > 0.5)"
      ],
      "metadata": {
        "id": "cb9mwDWJXu8h"
      },
      "execution_count": null,
      "outputs": []
    },
    {
      "cell_type": "code",
      "source": [
        "cm = confusion_matrix(y_test, y_pred)\n",
        "cm"
      ],
      "metadata": {
        "id": "hctJzrEyXz2q"
      },
      "execution_count": null,
      "outputs": []
    },
    {
      "cell_type": "code",
      "source": [
        "print(\"\\nTESTING RESULTS: \\n===============================\")\n",
        "clf_report = pd.DataFrame(classification_report(y_test, y_pred, output_dict=True))\n",
        "print(f\"CLASSIFICATION REPORT:\\n{clf_report}\")"
      ],
      "metadata": {
        "id": "HQGaUJ9pj3nP"
      },
      "execution_count": null,
      "outputs": []
    },
    {
      "cell_type": "code",
      "source": [
        "ANN.save('ANN.h5')"
      ],
      "metadata": {
        "id": "-48FHGIek9w5"
      },
      "execution_count": null,
      "outputs": []
    },
    {
      "cell_type": "code",
      "source": [
        "from tensorflow.keras.layers import BatchNormalization, Dense, Dropout\n",
        "from tensorflow.keras.models import Sequential\n",
        "from tensorflow.keras.regularizers import l2\n",
        "from tensorflow.keras.callbacks import EarlyStopping, ReduceLROnPlateau, ModelCheckpoint\n",
        "from tensorflow.keras.optimizers import Adam\n",
        "from sklearn.preprocessing import StandardScaler\n",
        "import numpy as np\n",
        "# 데이터 전처리\n",
        "scaler = StandardScaler()\n",
        "X_train = scaler.fit_transform(X_train)\n",
        "X_test = scaler.transform(X_test)\n",
        "\n",
        "# 모델 정의\n",
        "ANN2 = Sequential([\n",
        "    Dense(64, activation='relu', input_dim=30, kernel_regularizer=l2(0.01)),\n",
        "    BatchNormalization(),\n",
        "    Dropout(0.3),\n",
        "    Dense(32, activation='relu', kernel_regularizer=l2(0.01)),\n",
        "    BatchNormalization(),\n",
        "    Dropout(0.3),\n",
        "    Dense(16, activation='relu', kernel_regularizer=l2(0.01)),\n",
        "    BatchNormalization(),\n",
        "    Dropout(0.3),\n",
        "    Dense(1, activation='sigmoid')\n",
        "])"
      ],
      "metadata": {
        "id": "1vvgdFEsluff"
      },
      "execution_count": null,
      "outputs": []
    },
    {
      "cell_type": "code",
      "source": [
        "optimizer = Adam(learning_rate=0.001)\n",
        "\n",
        "ANN2.compile(\n",
        "    optimizer=optimizer,\n",
        "    loss='binary_crossentropy',\n",
        "    metrics=['accuracy', 'AUC']\n",
        "    )\n",
        "\n",
        "callbacks = [\n",
        "    EarlyStopping(\n",
        "        monitor='val_loss',\n",
        "        patience=15,\n",
        "        restore_best_weights=True,\n",
        "        mode='min'\n",
        "        ),\n",
        "    ReduceLROnPlateau(\n",
        "        monitor='val_loss',\n",
        "        factor=0.2,\n",
        "        patience=5,\n",
        "        min_lr=1e-6,\n",
        "        mode='min'\n",
        "        ),\n",
        "    ModelCheckpoint(\n",
        "        filepath='best_model.keras',\n",
        "        monitor='val_loss',\n",
        "        save_best_only=True,\n",
        "        mode='min'\n",
        "        )\n",
        "    ]"
      ],
      "metadata": {
        "id": "K3aijB-Ul_QL"
      },
      "execution_count": null,
      "outputs": []
    },
    {
      "cell_type": "code",
      "source": [
        "# 모델 학습\n",
        "history = ANN2.fit(\n",
        "    X_train, y_train,\n",
        "    epochs=150,\n",
        "    batch_size=32,\n",
        "    validation_split=0.2,\n",
        "    callbacks=callbacks,\n",
        "    verbose=1\n",
        ")\n",
        "# 모델 평가\n",
        "test_scores = ANN2.evaluate(X_test, y_test, verbose=0)\n",
        "print(\"\\n테스트 세트 성능:\")\n",
        "print(f\"Loss: {test_scores[0]:.4f}\")\n",
        "print(f\"Accuracy: {test_scores[1]:.4f}\")\n",
        "print(f\"AUC: {test_scores[2]:.4f}\")\n",
        "# 모델 구조 요약\n",
        "ANN2.summary()\n"
      ],
      "metadata": {
        "id": "yWDca0Ghm2xg"
      },
      "execution_count": null,
      "outputs": []
    },
    {
      "cell_type": "code",
      "source": [
        "from sklearn.model_selection import GridSearchCV\n",
        "from sklearn.svm import SVC\n",
        "\n",
        "model = SVC()\n",
        "param_grid = {\n",
        "    'gamma' : [0.0001, 0.001, 0.01, 0.1, 1],\n",
        "    'C' : [0.01, 0.05, 0.5, 0.1, 1, 10, 20, 50, 100]\n",
        "    }\n",
        "grid_search = GridSearchCV(model, param_grid, cv=5, return_train_score=True)\n",
        "grid_search.fit(X_train, y_train)"
      ],
      "metadata": {
        "id": "op2_OfIyncfv"
      },
      "execution_count": null,
      "outputs": []
    },
    {
      "cell_type": "code",
      "source": [
        "print(grid_search.best_params_)"
      ],
      "metadata": {
        "id": "zGWrc4Don8dx"
      },
      "execution_count": null,
      "outputs": []
    },
    {
      "cell_type": "code",
      "source": [
        "print(grid_search.best_score_)\n",
        "print(grid_search.best_estimator_)"
      ],
      "metadata": {
        "id": "teHaCa1KoUKA"
      },
      "execution_count": null,
      "outputs": []
    }
  ]
}