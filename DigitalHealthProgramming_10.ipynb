{
  "nbformat": 4,
  "nbformat_minor": 0,
  "metadata": {
    "colab": {
      "provenance": []
    },
    "kernelspec": {
      "name": "python3",
      "display_name": "Python 3"
    },
    "language_info": {
      "name": "python"
    }
  },
  "cells": [
    {
      "cell_type": "code",
      "execution_count": null,
      "metadata": {
        "id": "hmpazlN9DaI2"
      },
      "outputs": [],
      "source": [
        "import numpy as np\n",
        "import pandas as pd\n",
        "import matplotlib.pyplot as plt\n",
        "import seaborn as sns\n",
        "%matplotlib inline\n",
        "\n",
        "titanic_df = pd.read_csv('/content/titanic_train.csv')\n",
        "titanic_df.head(3)"
      ]
    },
    {
      "cell_type": "code",
      "source": [
        "sns.barplot(x='Sex', y = 'Survived', data=titanic_df)\n",
        "titanic_df.groupby(['Sex','Survived'])['Survived'].count()"
      ],
      "metadata": {
        "id": "Uqe7NQQgEG-x"
      },
      "execution_count": null,
      "outputs": []
    },
    {
      "cell_type": "code",
      "source": [
        "sns.barplot(x='Pclass', y='Survived', hue='Sex', data=titanic_df)"
      ],
      "metadata": {
        "id": "hKmYBxo6EIzm"
      },
      "execution_count": null,
      "outputs": []
    },
    {
      "cell_type": "code",
      "source": [
        "print('\\n ### 데이터 정보 ###  \\n')\n",
        "print(titanic_df.info())"
      ],
      "metadata": {
        "id": "RswuheidEMsN"
      },
      "execution_count": null,
      "outputs": []
    },
    {
      "cell_type": "code",
      "source": [
        "titanic_df.describe()"
      ],
      "metadata": {
        "id": "hz0p5FnJERqn"
      },
      "execution_count": null,
      "outputs": []
    },
    {
      "cell_type": "code",
      "source": [
        "titanic_df.describe().transpose()"
      ],
      "metadata": {
        "id": "OQGZeaBzEW2L"
      },
      "execution_count": null,
      "outputs": []
    },
    {
      "cell_type": "code",
      "source": [
        "titanic_df['Age'].fillna(titanic_df['Age'].mean(), inplace=True)\n",
        "titanic_df['Cabin'].fillna('N', inplace=True)\n",
        "titanic_df['Embarked'].fillna('N', inplace=True)\n",
        "\n",
        "titanic_df.info()"
      ],
      "metadata": {
        "id": "khN0xnoWEZgK"
      },
      "execution_count": null,
      "outputs": []
    },
    {
      "cell_type": "code",
      "source": [
        "titanic_df.dtypes[titanic_df.dtypes == 'object'].index.tolist()"
      ],
      "metadata": {
        "id": "zn7d9yw4EzDo"
      },
      "execution_count": null,
      "outputs": []
    },
    {
      "cell_type": "code",
      "source": [
        "print(' Sex 값 분포 :\\n',titanic_df['Sex'].value_counts())\n",
        "print('\\n Cabin 값 분포 :\\n',titanic_df['Cabin'].value_counts())\n",
        "print('\\n Embarked 값 분포 :\\n',titanic_df['Embarked'].value_counts())"
      ],
      "metadata": {
        "id": "Z_mVhi6NE3w6"
      },
      "execution_count": null,
      "outputs": []
    },
    {
      "cell_type": "code",
      "source": [
        "from sklearn.preprocessing import LabelEncoder\n",
        "features = ['Cabin', 'Sex', 'Embarked']\n",
        "\n",
        "le = LabelEncoder()\n",
        "for feature in features:\n",
        "    le.fit(titanic_df[feature])\n",
        "    titanic_df[feature] = le.transform(titanic_df[feature])\n",
        "\n",
        "titanic_df.head()"
      ],
      "metadata": {
        "id": "tMSGjcewE47i"
      },
      "execution_count": null,
      "outputs": []
    },
    {
      "cell_type": "code",
      "source": [
        "#이상치 처리를 위한 시각화\n",
        "numeric_features = ['Pclass', 'Sex', 'Age', 'SibSp', 'Parch', 'Cabin']\n",
        "\n",
        "plt.figure(figsize=(15, 10))\n",
        "\n",
        "for i, feature in enumerate(numeric_features, 1):\n",
        "    plt.subplot(2, 3, i)\n",
        "    sns.boxplot(x=titanic_df[feature])\n",
        "    plt.title(f'Boxplot of {feature}')\n",
        "\n",
        "plt.tight_layout()\n",
        "plt.show()"
      ],
      "metadata": {
        "id": "-HwMITJ6E-YL"
      },
      "execution_count": null,
      "outputs": []
    },
    {
      "cell_type": "code",
      "source": [
        "titanic_df.drop(['PassengerId','Name','Ticket'], axis=1, inplace=True)\n",
        "titanic_df.head(3)"
      ],
      "metadata": {
        "id": "UTeNwX9eFCM8"
      },
      "execution_count": null,
      "outputs": []
    },
    {
      "cell_type": "code",
      "source": [
        "y_titanic_df = titanic_df['Survived']\n",
        "y_titanic_df.head()"
      ],
      "metadata": {
        "id": "6ezn2z6QFFbA"
      },
      "execution_count": null,
      "outputs": []
    },
    {
      "cell_type": "code",
      "source": [
        "X_titanic_df= titanic_df.drop('Survived',axis=1, inplace=False)\n",
        "X_titanic_df.head(3)"
      ],
      "metadata": {
        "id": "AYtUsVYOFKNO"
      },
      "execution_count": null,
      "outputs": []
    },
    {
      "cell_type": "code",
      "source": [
        "from sklearn.metrics import r2_score\n",
        "\n",
        "# 실제값\n",
        "y_true = [3, -0.5, 2, 7]\n",
        "# 예측값\n",
        "y_pred = [2.5, 0.0, 2, 8]\n",
        "\n",
        "# R² 계산\n",
        "r2 = r2_score(y_true, y_pred)\n",
        "print(\"R²:\", r2)"
      ],
      "metadata": {
        "id": "NbJNrjD7DWRI"
      },
      "execution_count": null,
      "outputs": []
    },
    {
      "cell_type": "code",
      "source": [
        "#선형 회귀모델 예제 : 연봉과 직장 만족도\n",
        "x = [3000, 4200, 4000, 5000, 6000, 3800, 3500, 6200, 3900, 4500]\n",
        "y = [60, 75, 70, 85, 90, 70, 65, 95, 70, 80]\n",
        "data = {'x': x, 'y': y}\n",
        "df = pd.DataFrame(data)\n",
        "plt.scatter(df['x'], df['y'])\n",
        "plt.show( )"
      ],
      "metadata": {
        "id": "KucjRMPoFLpn"
      },
      "execution_count": null,
      "outputs": []
    },
    {
      "cell_type": "code",
      "source": [
        "from sklearn.linear_model import LinearRegression\n",
        "\n",
        "X = df[['x']]  # 독립 변수\n",
        "y = df['y']    # 종속 변수\n",
        "model = LinearRegression()\n",
        "model.fit(X, y)\n",
        "\n",
        "print(\"Slope (Coefficient):\", model.coef_[0])\n",
        "print(\"Intercept:\", model.intercept_)"
      ],
      "metadata": {
        "id": "t78iuZuzFLjD"
      },
      "execution_count": null,
      "outputs": []
    },
    {
      "cell_type": "code",
      "source": [
        "plt.scatter(df['x'], df['y'], color='blue')\n",
        "plt.plot(df['x'], model.predict(X), color='red')  # 회귀선 추가\n",
        "plt.xlabel('Salary')\n",
        "plt.ylabel('Job Satisfaction')\n",
        "plt.title('Linear Regression: Salary vs Job Satisfaction')\n",
        "plt.show()"
      ],
      "metadata": {
        "id": "HGoZbAPkF1Gq"
      },
      "execution_count": null,
      "outputs": []
    },
    {
      "cell_type": "code",
      "source": [
        "from sklearn.model_selection import train_test_split\n",
        "\n",
        "X_train, X_test, y_train, y_test=train_test_split(X_titanic_df, y_titanic_df, test_size=0.2, random_state=10)\n",
        "print(X_train.shape, X_test.shape, y_train.shape, y_test.shape)"
      ],
      "metadata": {
        "id": "FUOYAEOWFUUe"
      },
      "execution_count": null,
      "outputs": []
    },
    {
      "cell_type": "code",
      "source": [
        "from sklearn.linear_model import LogisticRegression\n",
        "from sklearn.metrics import accuracy_score\n",
        "\n",
        "lr_clf = LogisticRegression(solver='liblinear')\n",
        "lr_clf.fit(X_train , y_train)\n",
        "lr_pred = lr_clf.predict(X_test)\n",
        "\n",
        "print('LogisticRegression 정확도: {0:.4f}'.format(accuracy_score(y_test, lr_pred)))"
      ],
      "metadata": {
        "id": "ppz4vhkKFX0P"
      },
      "execution_count": null,
      "outputs": []
    },
    {
      "cell_type": "code",
      "source": [
        "from sklearn.metrics import accuracy_score, precision_score, recall_score, f1_score\n",
        "from sklearn.metrics import confusion_matrix, classification_report\n",
        "\n",
        "lr_clf = LogisticRegression(solver='liblinear')\n",
        "lr_clf.fit(X_train, y_train)\n",
        "lr_pred = lr_clf.predict(X_test)\n",
        "\n",
        "print('accuracy: {:.4f}'.format(accuracy_score(y_test, lr_pred)))\n",
        "print('precision: {:.4f}'.format(precision_score(y_test, lr_pred, average='weighted')))\n",
        "print('recall: {:.4f}'.format(recall_score(y_test, lr_pred, average='weighted')))\n",
        "print('f1-score: {:.4f}'.format(f1_score(y_test, lr_pred, average='weighted')))\n",
        "\n",
        "conf_matrix = confusion_matrix(y_test, lr_pred)\n",
        "\n",
        "plt.figure(figsize=(3, 2))\n",
        "sns.heatmap(conf_matrix, annot=True, fmt='d', cmap='Blues')\n",
        "plt.title('Confusion Matrix')\n",
        "plt.ylabel('True Label')\n",
        "plt.xlabel('Predicted Label')\n",
        "plt.show()"
      ],
      "metadata": {
        "id": "nRMumyJqFY-A"
      },
      "execution_count": null,
      "outputs": []
    }
  ]
}