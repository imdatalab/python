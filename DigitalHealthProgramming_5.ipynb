{
  "nbformat": 4,
  "nbformat_minor": 0,
  "metadata": {
    "colab": {
      "provenance": []
    },
    "kernelspec": {
      "name": "python3",
      "display_name": "Python 3"
    },
    "language_info": {
      "name": "python"
    }
  },
  "cells": [
    {
      "cell_type": "code",
      "execution_count": null,
      "metadata": {
        "colab": {
          "base_uri": "https://localhost:8080/"
        },
        "id": "IkbLkhtyuu99",
        "outputId": "e65d9d20-11fe-41e4-d6c6-419861dc1a1d"
      },
      "outputs": [
        {
          "output_type": "stream",
          "name": "stdout",
          "text": [
            "난생처음 파이썬\n"
          ]
        }
      ],
      "source": [
        "print(\"난생처음 파이썬\")"
      ]
    },
    {
      "cell_type": "code",
      "source": [
        "num = int(\"1234\")\n",
        "print(num)"
      ],
      "metadata": {
        "colab": {
          "base_uri": "https://localhost:8080/"
        },
        "id": "D3O_6Thku1LQ",
        "outputId": "db751c1e-9230-4e93-a4cf-8ed669f8ce70"
      },
      "execution_count": null,
      "outputs": [
        {
          "output_type": "stream",
          "name": "stdout",
          "text": [
            "1234\n"
          ]
        }
      ]
    },
    {
      "cell_type": "code",
      "source": [
        "def output():\n",
        "    print(\"=====================\")\n",
        "    print(\"안녕하세요. 반갑습니다.\")\n",
        "    print(\"=====================\")\n",
        "\n",
        "output()\n",
        "output()\n",
        "output()"
      ],
      "metadata": {
        "colab": {
          "base_uri": "https://localhost:8080/"
        },
        "id": "7GDgzgO2vI52",
        "outputId": "e8795529-5501-46cb-f35f-fc535352e997"
      },
      "execution_count": null,
      "outputs": [
        {
          "output_type": "stream",
          "name": "stdout",
          "text": [
            "=====================\n",
            "안녕하세요. 반갑습니다.\n",
            "=====================\n",
            "=====================\n",
            "안녕하세요. 반갑습니다.\n",
            "=====================\n",
            "=====================\n",
            "안녕하세요. 반갑습니다.\n",
            "=====================\n"
          ]
        }
      ]
    },
    {
      "cell_type": "code",
      "source": [
        "def n_times_print(value, n):\n",
        "    for i in range(n):\n",
        "        print(value)\n",
        "\n",
        "n_times_print(\"안녕하세요!\", 5)"
      ],
      "metadata": {
        "colab": {
          "base_uri": "https://localhost:8080/"
        },
        "id": "dqJECvJAvK0f",
        "outputId": "11b78660-6f3e-4122-f200-04a3af59a7ee"
      },
      "execution_count": null,
      "outputs": [
        {
          "output_type": "stream",
          "name": "stdout",
          "text": [
            "안녕하세요!\n",
            "안녕하세요!\n",
            "안녕하세요!\n",
            "안녕하세요!\n",
            "안녕하세요!\n"
          ]
        }
      ]
    },
    {
      "cell_type": "code",
      "source": [
        "n_times_print(\"반갑습니다!\", 3, 10)"
      ],
      "metadata": {
        "colab": {
          "base_uri": "https://localhost:8080/",
          "height": 144
        },
        "id": "FkLJZ4IJvPbS",
        "outputId": "ec732c39-70d8-489c-ed97-98480c2d2d54"
      },
      "execution_count": null,
      "outputs": [
        {
          "output_type": "error",
          "ename": "TypeError",
          "evalue": "n_times_print() takes 2 positional arguments but 3 were given",
          "traceback": [
            "\u001b[0;31m---------------------------------------------------------------------------\u001b[0m",
            "\u001b[0;31mTypeError\u001b[0m                                 Traceback (most recent call last)",
            "\u001b[0;32m<ipython-input-5-ed77014f01bd>\u001b[0m in \u001b[0;36m<cell line: 0>\u001b[0;34m()\u001b[0m\n\u001b[0;32m----> 1\u001b[0;31m \u001b[0mn_times_print\u001b[0m\u001b[0;34m(\u001b[0m\u001b[0;34m\"반갑습니다!\"\u001b[0m\u001b[0;34m,\u001b[0m \u001b[0;36m3\u001b[0m\u001b[0;34m,\u001b[0m \u001b[0;36m10\u001b[0m\u001b[0;34m)\u001b[0m\u001b[0;34m\u001b[0m\u001b[0;34m\u001b[0m\u001b[0m\n\u001b[0m",
            "\u001b[0;31mTypeError\u001b[0m: n_times_print() takes 2 positional arguments but 3 were given"
          ]
        }
      ]
    },
    {
      "cell_type": "code",
      "source": [
        "def print_var(n, *values):\n",
        "    for i in range(n):\n",
        "        for value in values:\n",
        "            print(value)\n",
        "        print()\n",
        "\n",
        "print_var(3, \"안녕하세요!\", \"반갑습니다!\")"
      ],
      "metadata": {
        "colab": {
          "base_uri": "https://localhost:8080/"
        },
        "id": "bb7617uAvZnj",
        "outputId": "1d63203e-1e1b-498b-b4d4-86907f216a61"
      },
      "execution_count": null,
      "outputs": [
        {
          "output_type": "stream",
          "name": "stdout",
          "text": [
            "안녕하세요!\n",
            "반갑습니다!\n",
            "\n",
            "안녕하세요!\n",
            "반갑습니다!\n",
            "\n",
            "안녕하세요!\n",
            "반갑습니다!\n",
            "\n"
          ]
        }
      ]
    },
    {
      "cell_type": "code",
      "source": [
        "def print_default(value, n=2):\n",
        "    for i in range(n):\n",
        "        print(value)\n",
        "\n",
        "print_default(\"안녕하세요!\")\n",
        "print_default(\"안녕하세요!반갑습니다!\", 3)"
      ],
      "metadata": {
        "colab": {
          "base_uri": "https://localhost:8080/"
        },
        "id": "9dVl7iL7vb9X",
        "outputId": "791ca3ec-f113-4cd4-cdd2-59f1fa2b2994"
      },
      "execution_count": null,
      "outputs": [
        {
          "output_type": "stream",
          "name": "stdout",
          "text": [
            "안녕하세요!\n",
            "안녕하세요!\n",
            "안녕하세요!반갑습니다!\n",
            "안녕하세요!반갑습니다!\n",
            "안녕하세요!반갑습니다!\n"
          ]
        }
      ]
    },
    {
      "cell_type": "code",
      "source": [
        "def return_test():\n",
        "    print(\"A 위치 실행 확인\")\n",
        "    return\n",
        "    print(\"B 위치 실행 확인\")\n",
        "\n",
        "return_test()"
      ],
      "metadata": {
        "colab": {
          "base_uri": "https://localhost:8080/"
        },
        "id": "7H8szFifvhDJ",
        "outputId": "b061f278-cd88-46af-f829-190617e0536d"
      },
      "execution_count": null,
      "outputs": [
        {
          "output_type": "stream",
          "name": "stdout",
          "text": [
            "A 위치 실행 확인\n"
          ]
        }
      ]
    },
    {
      "cell_type": "code",
      "source": [
        "def return_test():\n",
        "    print(\"반환값 확인하기\")\n",
        "    return 500\n",
        "\n",
        "value = return_test()\n",
        "print(value)"
      ],
      "metadata": {
        "colab": {
          "base_uri": "https://localhost:8080/"
        },
        "id": "Q9RzQaEQvjjN",
        "outputId": "e6fd1e45-d7f6-4b3c-f1c1-dd6c5cdad56d"
      },
      "execution_count": null,
      "outputs": [
        {
          "output_type": "stream",
          "name": "stdout",
          "text": [
            "반환값 확인하기\n",
            "500\n"
          ]
        }
      ]
    },
    {
      "cell_type": "code",
      "source": [
        "# 실습문제 1\n"
      ],
      "metadata": {
        "colab": {
          "base_uri": "https://localhost:8080/"
        },
        "id": "RBI5ABh1vswr",
        "outputId": "7cb4c2e7-b907-464f-8a16-2c3babd4c766"
      },
      "execution_count": null,
      "outputs": [
        {
          "output_type": "stream",
          "name": "stdout",
          "text": [
            "첫번째 정수를 입력하세요>5\n",
            "두번째 정수를 입력하세요>12\n",
            "두 수의 합: 17\n"
          ]
        }
      ]
    },
    {
      "cell_type": "code",
      "source": [
        "def two_return(x, y):\n",
        "    res1 = x + y\n",
        "    res2 = x * y\n",
        "    return res1, res2\n",
        "\n",
        "sol1, sol2 = two_return(5, 3)\n",
        "print(\"결과값\", sol1, sol2)"
      ],
      "metadata": {
        "colab": {
          "base_uri": "https://localhost:8080/"
        },
        "id": "6tuOX4bavnu2",
        "outputId": "3edb4eec-89d0-4439-deff-6d6b1fc141ca"
      },
      "execution_count": null,
      "outputs": [
        {
          "output_type": "stream",
          "name": "stdout",
          "text": [
            "결과값 8 15\n"
          ]
        }
      ]
    },
    {
      "cell_type": "code",
      "source": [
        "def sum(start, end):\n",
        "    total = 0\n",
        "    for i in range(start, end+1):\n",
        "        total += i\n",
        "    return total\n",
        "\n",
        "print(\"20부터 80까지 합:\", sum(20, 80))"
      ],
      "metadata": {
        "colab": {
          "base_uri": "https://localhost:8080/"
        },
        "id": "TfywldnAvqgv",
        "outputId": "83526416-77f7-4d55-f5e1-f296054cc86b"
      },
      "execution_count": null,
      "outputs": [
        {
          "output_type": "stream",
          "name": "stdout",
          "text": [
            "20부터 80까지 합: 3050\n"
          ]
        }
      ]
    },
    {
      "cell_type": "code",
      "source": [
        "# 실습문제 2"
      ],
      "metadata": {
        "colab": {
          "base_uri": "https://localhost:8080/",
          "height": 233
        },
        "id": "PnU4bW3DvvAW",
        "outputId": "81b5a42c-7f91-4ee2-f351-897c0dafc075"
      },
      "execution_count": null,
      "outputs": [
        {
          "name": "stdout",
          "output_type": "stream",
          "text": [
            "첫번째 정수를 입력하세요>21\n",
            "두번째 정수를 입력하세요>7\n",
            "연산자 입력하세요(+, -, *, /)>*\n"
          ]
        },
        {
          "output_type": "error",
          "ename": "NameError",
          "evalue": "name 'res' is not defined",
          "traceback": [
            "\u001b[0;31m---------------------------------------------------------------------------\u001b[0m",
            "\u001b[0;31mNameError\u001b[0m                                 Traceback (most recent call last)",
            "\u001b[0;32m<ipython-input-13-4cfd4e24f43b>\u001b[0m in \u001b[0;36m<cell line: 0>\u001b[0;34m()\u001b[0m\n\u001b[1;32m     15\u001b[0m \u001b[0mopr\u001b[0m \u001b[0;34m=\u001b[0m \u001b[0minput\u001b[0m\u001b[0;34m(\u001b[0m\u001b[0;34m'연산자 입력하세요(+, -, *, /)>'\u001b[0m\u001b[0;34m)\u001b[0m\u001b[0;34m\u001b[0m\u001b[0;34m\u001b[0m\u001b[0m\n\u001b[1;32m     16\u001b[0m \u001b[0mcalc\u001b[0m\u001b[0;34m(\u001b[0m\u001b[0mx\u001b[0m\u001b[0;34m,\u001b[0m \u001b[0my\u001b[0m\u001b[0;34m,\u001b[0m \u001b[0mopr\u001b[0m\u001b[0;34m)\u001b[0m\u001b[0;34m\u001b[0m\u001b[0;34m\u001b[0m\u001b[0m\n\u001b[0;32m---> 17\u001b[0;31m \u001b[0mprint\u001b[0m\u001b[0;34m(\u001b[0m\u001b[0;34m\"계산기 결과:\"\u001b[0m\u001b[0;34m,\u001b[0m \u001b[0mres\u001b[0m\u001b[0;34m)\u001b[0m\u001b[0;34m\u001b[0m\u001b[0;34m\u001b[0m\u001b[0m\n\u001b[0m",
            "\u001b[0;31mNameError\u001b[0m: name 'res' is not defined"
          ]
        }
      ]
    },
    {
      "cell_type": "code",
      "source": [
        "def multi_operator(v1, v2):\n",
        "    result_list = []\n",
        "    add = v1 + v2\n",
        "    sub = v1 - v2\n",
        "    mul = v1 * v2\n",
        "    div = v1 / v2\n",
        "    result_list.append(add)\n",
        "    result_list.append(sub)\n",
        "    result_list.append(mul)\n",
        "    result_list.append(div)\n",
        "    return result_list\n",
        "\n",
        "input_a = int(input('첫 번째 수를 입력하시오 > '))\n",
        "input_b = int(input('두 번째 수를 입력하시오 > '))\n",
        "result = multi_operator(input_a, input_b)\n",
        "print(result)"
      ],
      "metadata": {
        "id": "8-vjrym2vxej",
        "colab": {
          "base_uri": "https://localhost:8080/"
        },
        "outputId": "6079b0b3-475d-4e34-ab46-06b1c8dd4812"
      },
      "execution_count": 1,
      "outputs": [
        {
          "output_type": "stream",
          "name": "stdout",
          "text": [
            "두 번째 수를 입력하시오 > 10\n",
            "[20, 0, 100, 1.0]\n"
          ]
        }
      ]
    },
    {
      "cell_type": "code",
      "source": [
        "def sum(s, t):\n",
        "    result1 = 0\n",
        "    result1 = s + t\n",
        "    return result1\n",
        "\n",
        "res = sum(10, 5)\n",
        "print(s, t, res)"
      ],
      "metadata": {
        "id": "QS0LRkzvw0WG",
        "colab": {
          "base_uri": "https://localhost:8080/",
          "height": 180
        },
        "outputId": "4edaf042-5353-4fb4-b4c8-ab7f6cbea1fb"
      },
      "execution_count": 2,
      "outputs": [
        {
          "output_type": "error",
          "ename": "NameError",
          "evalue": "name 's' is not defined",
          "traceback": [
            "\u001b[0;31m---------------------------------------------------------------------------\u001b[0m",
            "\u001b[0;31mNameError\u001b[0m                                 Traceback (most recent call last)",
            "\u001b[0;32m<ipython-input-2-5f0c0fcfdcb2>\u001b[0m in \u001b[0;36m<cell line: 0>\u001b[0;34m()\u001b[0m\n\u001b[1;32m      5\u001b[0m \u001b[0;34m\u001b[0m\u001b[0m\n\u001b[1;32m      6\u001b[0m \u001b[0mres\u001b[0m \u001b[0;34m=\u001b[0m \u001b[0msum\u001b[0m\u001b[0;34m(\u001b[0m\u001b[0;36m10\u001b[0m\u001b[0;34m,\u001b[0m \u001b[0;36m5\u001b[0m\u001b[0;34m)\u001b[0m\u001b[0;34m\u001b[0m\u001b[0;34m\u001b[0m\u001b[0m\n\u001b[0;32m----> 7\u001b[0;31m \u001b[0mprint\u001b[0m\u001b[0;34m(\u001b[0m\u001b[0ms\u001b[0m\u001b[0;34m,\u001b[0m \u001b[0mt\u001b[0m\u001b[0;34m,\u001b[0m \u001b[0mres\u001b[0m\u001b[0;34m)\u001b[0m\u001b[0;34m\u001b[0m\u001b[0;34m\u001b[0m\u001b[0m\n\u001b[0m",
            "\u001b[0;31mNameError\u001b[0m: name 's' is not defined"
          ]
        }
      ]
    },
    {
      "cell_type": "code",
      "source": [
        "def test1():\n",
        "    a = 5\n",
        "    print(a)\n",
        "\n",
        "def test2():\n",
        "    a = 10\n",
        "    print(a)\n",
        "\n",
        "test1()\n",
        "test2()\n",
        "\n",
        "a = 20\n",
        "print(a)"
      ],
      "metadata": {
        "id": "_e-CT-iNw-iW",
        "colab": {
          "base_uri": "https://localhost:8080/"
        },
        "outputId": "2f7a857a-fc06-41a7-a1c7-d65690bab995"
      },
      "execution_count": 3,
      "outputs": [
        {
          "output_type": "stream",
          "name": "stdout",
          "text": [
            "5\n",
            "10\n",
            "20\n"
          ]
        }
      ]
    },
    {
      "cell_type": "code",
      "source": [
        "def sum(s, t):\n",
        "    result1 = 0\n",
        "    result1 = s + t\n",
        "    return result1\n",
        "\n",
        "s = 10\n",
        "t = 5\n",
        "result1 = sum(s, t)\n",
        "print(s, t, result1)"
      ],
      "metadata": {
        "id": "FJfQ66G2xBCO",
        "colab": {
          "base_uri": "https://localhost:8080/"
        },
        "outputId": "d4e6332e-a1ab-4c0e-d6f6-0e28233f3c85"
      },
      "execution_count": 4,
      "outputs": [
        {
          "output_type": "stream",
          "name": "stdout",
          "text": [
            "10 5 15\n"
          ]
        }
      ]
    },
    {
      "cell_type": "code",
      "source": [
        "def function_a():\n",
        "    a = 10\n",
        "    print('function_a :', a)\n",
        "\n",
        "def function_b():\n",
        "    global a    # 전역변수 a변수를 사용하겠다고 선언\n",
        "    print(a)\n",
        "    a = 20\n",
        "    print('function_b :', a)\n",
        "\n",
        "a = 30\n",
        "function_a()    # 10\n",
        "function_b()    # 20\n",
        "function_a()    # 10\n",
        "print('main a:', a) # 20"
      ],
      "metadata": {
        "id": "lEmaFjdMxI3W",
        "colab": {
          "base_uri": "https://localhost:8080/"
        },
        "outputId": "d23c3160-f953-4ecb-c253-48928d1b0874"
      },
      "execution_count": 5,
      "outputs": [
        {
          "output_type": "stream",
          "name": "stdout",
          "text": [
            "function_a : 10\n",
            "30\n",
            "function_b : 20\n",
            "function_a : 10\n",
            "main a: 20\n"
          ]
        }
      ]
    },
    {
      "cell_type": "code",
      "source": [
        "# 실습문제 3\n"
      ],
      "metadata": {
        "id": "-m6q3MmNxNiZ"
      },
      "execution_count": null,
      "outputs": []
    },
    {
      "cell_type": "code",
      "source": [
        "# 실습문제 4\n"
      ],
      "metadata": {
        "id": "cqUY9ADsxRsZ",
        "colab": {
          "base_uri": "https://localhost:8080/"
        },
        "outputId": "a61adfad-2230-4eb9-f413-035c5160a132"
      },
      "execution_count": 6,
      "outputs": [
        {
          "output_type": "stream",
          "name": "stdout",
          "text": [
            "새로운 비밀번호를 입력하세요 :hello\n",
            "오류! 비밀번호가 규칙에 맞지 않습니다\n"
          ]
        }
      ]
    },
    {
      "cell_type": "code",
      "source": [
        "def factorial(n):\n",
        "    result = 1\n",
        "    for i in range(1, n+1):\n",
        "        result *= i\n",
        "    return result\n",
        "\n",
        "print(\"1!:\", factorial(1))\n",
        "print(\"2!:\", factorial(2))\n",
        "print(\"3!:\", factorial(3))\n",
        "print(\"4!:\", factorial(4))\n",
        "print(\"5!:\", factorial(5))"
      ],
      "metadata": {
        "id": "DTzCcX7fxtbX"
      },
      "execution_count": null,
      "outputs": []
    },
    {
      "cell_type": "code",
      "source": [
        "def fact(n):\n",
        "    if n==0:\n",
        "        return 1\n",
        "    else:\n",
        "        return n*fact(n-1)\n",
        "\n",
        "print(\"1!:\", fact(1))\n",
        "print(\"2!:\", fact(2))\n",
        "print(\"3!:\", fact(3))\n",
        "print(\"4!:\", fact(4))\n",
        "print(\"5!:\", fact(5))"
      ],
      "metadata": {
        "id": "AZnjsRm3xuSM",
        "colab": {
          "base_uri": "https://localhost:8080/"
        },
        "outputId": "227d8ab0-fb0c-474b-cc94-6bebea591ecd"
      },
      "execution_count": 7,
      "outputs": [
        {
          "output_type": "stream",
          "name": "stdout",
          "text": [
            "1!: 1\n",
            "2!: 2\n",
            "3!: 6\n",
            "4!: 24\n",
            "5!: 120\n"
          ]
        }
      ]
    },
    {
      "cell_type": "code",
      "source": [
        "# 실습문제 5"
      ],
      "metadata": {
        "id": "BIYx3OMsx25r",
        "colab": {
          "base_uri": "https://localhost:8080/"
        },
        "outputId": "e10aa903-d6f0-438f-e35d-9316a6cdafba"
      },
      "execution_count": 8,
      "outputs": [
        {
          "output_type": "stream",
          "name": "stdout",
          "text": [
            "fibonacci(1): 1\n",
            "fibonacci(2): 1\n",
            "fibonacci(3): 2\n",
            "fibonacci(4): 3\n",
            "fibonacci(5): 5\n"
          ]
        }
      ]
    },
    {
      "cell_type": "code",
      "source": [
        "def my_add(x, y):\n",
        "    return x+y\n",
        "\n",
        "sum = my_add(2, 5)\n",
        "print(sum)"
      ],
      "metadata": {
        "id": "Eo7AUjVQx6oh",
        "colab": {
          "base_uri": "https://localhost:8080/"
        },
        "outputId": "6f7e8bcc-bc80-4578-d25e-e988759f3552"
      },
      "execution_count": 9,
      "outputs": [
        {
          "output_type": "stream",
          "name": "stdout",
          "text": [
            "7\n"
          ]
        }
      ]
    },
    {
      "cell_type": "code",
      "source": [
        "my_sum = lambda x, y:x+y\n",
        "print(my_sum(2, 3))"
      ],
      "metadata": {
        "id": "6PARzyWJyADZ",
        "colab": {
          "base_uri": "https://localhost:8080/"
        },
        "outputId": "0182e339-f843-4ec0-b575-06c12f21da88"
      },
      "execution_count": 10,
      "outputs": [
        {
          "output_type": "stream",
          "name": "stdout",
          "text": [
            "5\n"
          ]
        }
      ]
    },
    {
      "cell_type": "code",
      "source": [
        "original_list = ['2', '4', '6', '8', '10', '12']\n",
        "new_int_list = list(map(int, original_list))\n",
        "print(new_int_list)"
      ],
      "metadata": {
        "id": "cOWnbCUWyB6D",
        "colab": {
          "base_uri": "https://localhost:8080/"
        },
        "outputId": "22cf052f-d2bc-4500-91ff-ccf70facab15"
      },
      "execution_count": 11,
      "outputs": [
        {
          "output_type": "stream",
          "name": "stdout",
          "text": [
            "[2, 4, 6, 8, 10, 12]\n"
          ]
        }
      ]
    },
    {
      "cell_type": "code",
      "source": [
        "scores = input('3과목의 점수를 입력 하시오 > ').split()\n",
        "print(scores)\n",
        "print(list(map(int, scores)))"
      ],
      "metadata": {
        "id": "eI3rHnp6yLG-",
        "colab": {
          "base_uri": "https://localhost:8080/"
        },
        "outputId": "6404bcc4-1dca-4896-ca75-53773188de1f"
      },
      "execution_count": 12,
      "outputs": [
        {
          "output_type": "stream",
          "name": "stdout",
          "text": [
            "3과목의 점수를 입력 하시오 > 50 70 95\n",
            "['50', '70', '95']\n",
            "[50, 70, 95]\n"
          ]
        }
      ]
    },
    {
      "cell_type": "code",
      "source": [
        "f = lambda x:x**2\n",
        "x = [1,2,3,4,5]\n",
        "print(list(map(f, x)))"
      ],
      "metadata": {
        "id": "kGgUtN-RyN3t",
        "colab": {
          "base_uri": "https://localhost:8080/"
        },
        "outputId": "c019968e-ee0e-45ee-fad5-b18eb4e34f22"
      },
      "execution_count": 13,
      "outputs": [
        {
          "output_type": "stream",
          "name": "stdout",
          "text": [
            "[1, 4, 9, 16, 25]\n"
          ]
        }
      ]
    },
    {
      "cell_type": "code",
      "source": [
        "f = lambda x, y:x*x+y\n",
        "X = [1, 2, 3, 4, 5]\n",
        "Y = [10, 9, 8, 7, 6]\n",
        "result = list(map(f, X, Y))\n",
        "print(result)"
      ],
      "metadata": {
        "id": "sluUzeRkyRQi",
        "colab": {
          "base_uri": "https://localhost:8080/"
        },
        "outputId": "989fde4c-7dec-4853-f030-c6a22ea4af4a"
      },
      "execution_count": 14,
      "outputs": [
        {
          "output_type": "stream",
          "name": "stdout",
          "text": [
            "[11, 13, 17, 23, 31]\n"
          ]
        }
      ]
    },
    {
      "cell_type": "code",
      "source": [
        "scores = input('3과목의 점수를 입력 하시오 > ').split()\n",
        "print(scores)"
      ],
      "metadata": {
        "id": "JUk_DHWXyTEi",
        "colab": {
          "base_uri": "https://localhost:8080/"
        },
        "outputId": "17127f62-342c-4ad9-aa2c-57571582f1c0"
      },
      "execution_count": 15,
      "outputs": [
        {
          "output_type": "stream",
          "name": "stdout",
          "text": [
            "3과목의 점수를 입력 하시오 > 50\n",
            "['50']\n"
          ]
        }
      ]
    },
    {
      "cell_type": "code",
      "source": [
        "date = '1985.02.15'\n",
        "new_date = date.split('.')\n",
        "print(new_date)\n",
        "print('year: ', new_date[0])\n",
        "print('month: ', new_date[1])\n",
        "print('day : ', new_date[2])"
      ],
      "metadata": {
        "id": "Q0eGdKaAyWqe",
        "colab": {
          "base_uri": "https://localhost:8080/"
        },
        "outputId": "ba0d459c-2a94-48e5-c3f3-a807bd10f962"
      },
      "execution_count": 16,
      "outputs": [
        {
          "output_type": "stream",
          "name": "stdout",
          "text": [
            "['1985', '02', '15']\n",
            "year:  1985\n",
            "month:  02\n",
            "day :  15\n"
          ]
        }
      ]
    },
    {
      "cell_type": "code",
      "source": [
        "f = open('alice.txt')\n",
        "print(f.read())\n",
        "f.close()"
      ],
      "metadata": {
        "id": "mMp9fVTJyZNy",
        "colab": {
          "base_uri": "https://localhost:8080/"
        },
        "outputId": "900c3c20-9ee3-45c5-a3fe-086850e5d43b"
      },
      "execution_count": 18,
      "outputs": [
        {
          "output_type": "stream",
          "name": "stdout",
          "text": [
            "ALICE'S ADVENTURES IN WONDERLAND \n",
            "Lewis Carroll \n",
            "THE MILLENNIUM FULCRUM EDITION 3.0 \n",
            "CHAPTER I Down the Rabbit-Hole \n",
            "Alice was beginning to get very tired of sitting by her sister on the bank, and of having nothing to do: once or twice she had peeped into the book her sister was reading, but it had no pictures or conversations in it, `and what is the use of a book,' thought Alice `without pictures or conversation?' \n",
            "\n"
          ]
        }
      ]
    },
    {
      "cell_type": "code",
      "source": [
        "memo = input('저장할 내용을 입력해 주세요>')\n",
        "f = open('memo.txt', 'w')\n",
        "f.write(memo)\n",
        "f.close()"
      ],
      "metadata": {
        "id": "u-Aor0JHykqP",
        "colab": {
          "base_uri": "https://localhost:8080/"
        },
        "outputId": "c2a94dd2-dee0-4dd8-b675-3bb0ffcf2278"
      },
      "execution_count": 19,
      "outputs": [
        {
          "name": "stdout",
          "output_type": "stream",
          "text": [
            "저장할 내용을 입력해 주세요>Hello World\n"
          ]
        }
      ]
    },
    {
      "cell_type": "code",
      "source": [
        "memo = input('저장할 내용을 입력해 주세요>')\n",
        "f = open('memo.txt', 'w', encoding='utf8')\n",
        "f.write(memo)\n",
        "f.close()"
      ],
      "metadata": {
        "id": "UmIV0aXByqSt",
        "colab": {
          "base_uri": "https://localhost:8080/"
        },
        "outputId": "12e3458c-52d7-4a3f-ad50-3c59899b2a24"
      },
      "execution_count": 20,
      "outputs": [
        {
          "name": "stdout",
          "output_type": "stream",
          "text": [
            "저장할 내용을 입력해 주세요>안녕하세요!\n"
          ]
        }
      ]
    },
    {
      "cell_type": "code",
      "source": [
        "f = open('alice.txt', 'r')\n",
        "book = f.read()\n",
        "word_list = book.split(' ')\n",
        "line_list = book.split('\\n')\n",
        "f.close()\n",
        "print('총 글자:', len(book))\n",
        "print('총 단어:', len(word_list))\n",
        "print('총 라인:', len(line_list))"
      ],
      "metadata": {
        "id": "kVzV8S3oytPZ",
        "colab": {
          "base_uri": "https://localhost:8080/"
        },
        "outputId": "506d86aa-bd74-4470-86cb-2c7551ef64b5"
      },
      "execution_count": 21,
      "outputs": [
        {
          "output_type": "stream",
          "name": "stdout",
          "text": [
            "총 글자: 420\n",
            "총 단어: 74\n",
            "총 라인: 6\n"
          ]
        }
      ]
    },
    {
      "cell_type": "code",
      "source": [
        "import math\n",
        "print(dir(math))\n",
        "print(\"===================\")\n",
        "print(math.sqrt(2))\n",
        "print(math.pi)\n",
        "print(math.factorial(5))"
      ],
      "metadata": {
        "id": "ecW54Fdfy1kZ",
        "colab": {
          "base_uri": "https://localhost:8080/"
        },
        "outputId": "8050f563-c109-49dd-83b8-694fc048fe38"
      },
      "execution_count": 22,
      "outputs": [
        {
          "output_type": "stream",
          "name": "stdout",
          "text": [
            "['__doc__', '__loader__', '__name__', '__package__', '__spec__', 'acos', 'acosh', 'asin', 'asinh', 'atan', 'atan2', 'atanh', 'cbrt', 'ceil', 'comb', 'copysign', 'cos', 'cosh', 'degrees', 'dist', 'e', 'erf', 'erfc', 'exp', 'exp2', 'expm1', 'fabs', 'factorial', 'floor', 'fmod', 'frexp', 'fsum', 'gamma', 'gcd', 'hypot', 'inf', 'isclose', 'isfinite', 'isinf', 'isnan', 'isqrt', 'lcm', 'ldexp', 'lgamma', 'log', 'log10', 'log1p', 'log2', 'modf', 'nan', 'nextafter', 'perm', 'pi', 'pow', 'prod', 'radians', 'remainder', 'sin', 'sinh', 'sqrt', 'tan', 'tanh', 'tau', 'trunc', 'ulp']\n",
            "===================\n",
            "1.4142135623730951\n",
            "3.141592653589793\n",
            "120\n"
          ]
        }
      ]
    },
    {
      "cell_type": "code",
      "source": [
        "from math import sin, gcd\n",
        "print(sin(1.57))\n",
        "print(gcd(25, 5))"
      ],
      "metadata": {
        "id": "ByhH2vGay5nY",
        "colab": {
          "base_uri": "https://localhost:8080/"
        },
        "outputId": "2a769766-51d9-41e0-dd23-f70c28065668"
      },
      "execution_count": 23,
      "outputs": [
        {
          "output_type": "stream",
          "name": "stdout",
          "text": [
            "0.9999996829318346\n",
            "5\n"
          ]
        }
      ]
    },
    {
      "cell_type": "code",
      "source": [
        "import time\n",
        "import datetime\n",
        "print(time.time())  # 유닉스 시간\n",
        "print(datetime.datetime.now()) # 현재 서버 시간\n",
        "print(time.ctime()) #요일 월 일 시간 년도\n",
        "print('오늘은 {}월 {}일 입니다. 화이팅~!'.format(time.localtime().tm_mon, time.localtime().tm_mday))\n",
        "print('지금 시각은 {}시 {}분 입니다.'.format(time.localtime().tm_hour, time.localtime().tm_min))"
      ],
      "metadata": {
        "id": "qo12cXQpy6Rl",
        "colab": {
          "base_uri": "https://localhost:8080/"
        },
        "outputId": "7d377ace-8a28-43dd-c129-eaa3f26b490c"
      },
      "execution_count": 24,
      "outputs": [
        {
          "output_type": "stream",
          "name": "stdout",
          "text": [
            "1743481544.875351\n",
            "2025-04-01 04:25:44.875491\n",
            "Tue Apr  1 04:25:44 2025\n",
            "오늘은 4월 1일 입니다. 화이팅~!\n",
            "지금 시각은 4시 25분 입니다.\n"
          ]
        }
      ]
    },
    {
      "cell_type": "code",
      "source": [
        "import random\n",
        "for i in range(5):\n",
        "    print(random.random())"
      ],
      "metadata": {
        "id": "MgX1sjE6y-ge",
        "colab": {
          "base_uri": "https://localhost:8080/"
        },
        "outputId": "5799cf83-46fe-4544-b4ff-87bfc6bcf40c"
      },
      "execution_count": 25,
      "outputs": [
        {
          "output_type": "stream",
          "name": "stdout",
          "text": [
            "0.16843958099972722\n",
            "0.07944202976138492\n",
            "0.9842025822959842\n",
            "0.6641570483846785\n",
            "0.7746603664515828\n"
          ]
        }
      ]
    },
    {
      "cell_type": "code",
      "source": [
        "import random\n",
        "for i in range(10):\n",
        "    print(random.randint(1, 10))"
      ],
      "metadata": {
        "id": "IFVE3jR8zD8E",
        "colab": {
          "base_uri": "https://localhost:8080/"
        },
        "outputId": "707ba0d4-f8a3-4e16-fac3-c09e73ff4f73"
      },
      "execution_count": 26,
      "outputs": [
        {
          "output_type": "stream",
          "name": "stdout",
          "text": [
            "3\n",
            "2\n",
            "7\n",
            "3\n",
            "4\n",
            "1\n",
            "5\n",
            "4\n",
            "3\n",
            "1\n"
          ]
        }
      ]
    },
    {
      "cell_type": "code",
      "source": [
        "import random\n",
        "menu = ['라면','학식', '피자', '햄버거', '피자', '떡볶이', '도시락']\n",
        "print('오늘은', random.choice(menu), '추천합니다')\n",
        "print(random.sample(menu, 2))"
      ],
      "metadata": {
        "id": "dZjBq93xzGhl",
        "colab": {
          "base_uri": "https://localhost:8080/"
        },
        "outputId": "43188d53-f06d-4bdf-cda0-86b205ab755e"
      },
      "execution_count": 27,
      "outputs": [
        {
          "output_type": "stream",
          "name": "stdout",
          "text": [
            "오늘은 도시락 추천합니다\n",
            "['라면', '피자']\n"
          ]
        }
      ]
    },
    {
      "cell_type": "code",
      "source": [
        "# prompt: pip install\n",
        "\n",
        "!pip install yt-dlp"
      ],
      "metadata": {
        "id": "-vyjRCfKzTC_",
        "colab": {
          "base_uri": "https://localhost:8080/"
        },
        "outputId": "2fdfaae8-1fa5-44f7-cee1-1c0945035123"
      },
      "execution_count": 40,
      "outputs": [
        {
          "output_type": "stream",
          "name": "stdout",
          "text": [
            "Collecting yt-dlp\n",
            "  Downloading yt_dlp-2025.3.31-py3-none-any.whl.metadata (172 kB)\n",
            "\u001b[2K     \u001b[90m━━━━━━━━━━━━━━━━━━━━━━━━━━━━━━━━━━━━━━━━\u001b[0m \u001b[32m172.2/172.2 kB\u001b[0m \u001b[31m3.9 MB/s\u001b[0m eta \u001b[36m0:00:00\u001b[0m\n",
            "\u001b[?25hDownloading yt_dlp-2025.3.31-py3-none-any.whl (3.2 MB)\n",
            "\u001b[2K   \u001b[90m━━━━━━━━━━━━━━━━━━━━━━━━━━━━━━━━━━━━━━━━\u001b[0m \u001b[32m3.2/3.2 MB\u001b[0m \u001b[31m49.7 MB/s\u001b[0m eta \u001b[36m0:00:00\u001b[0m\n",
            "\u001b[?25hInstalling collected packages: yt-dlp\n",
            "Successfully installed yt-dlp-2025.3.31\n"
          ]
        }
      ]
    },
    {
      "cell_type": "code",
      "source": [
        "import yt_dlp\n",
        "\n",
        "def download_with_ytdlp(url, path):\n",
        "    ydl_opts = {\n",
        "        'outtmpl': f'{path}/%(title)s.%(ext)s',\n",
        "        'format': 'bestvideo+bestaudio/best',\n",
        "        'merge_output_format': 'mp4'\n",
        "    }\n",
        "    with yt_dlp.YoutubeDL(ydl_opts) as ydl:\n",
        "        ydl.download([url])\n",
        "\n",
        "video_url = 'https://www.youtube.com/watch?v=MezvFK_r-MI'\n",
        "download_with_ytdlp(video_url, 'videos')"
      ],
      "metadata": {
        "id": "9Ko6_ldVzhzv",
        "colab": {
          "base_uri": "https://localhost:8080/"
        },
        "outputId": "2d05aff7-bb09-423f-fa51-a086ee0a242c"
      },
      "execution_count": 41,
      "outputs": [
        {
          "output_type": "stream",
          "name": "stdout",
          "text": [
            "[youtube] Extracting URL: https://www.youtube.com/watch?v=MezvFK_r-MI\n",
            "[youtube] MezvFK_r-MI: Downloading webpage\n",
            "[youtube] MezvFK_r-MI: Downloading tv client config\n",
            "[youtube] MezvFK_r-MI: Downloading player 8a8ac953-main\n",
            "[youtube] MezvFK_r-MI: Downloading tv player API JSON\n",
            "[youtube] MezvFK_r-MI: Downloading ios player API JSON\n",
            "[youtube] MezvFK_r-MI: Downloading m3u8 information\n",
            "[info] MezvFK_r-MI: Downloading 1 format(s): 401+251\n",
            "[download] Destination: videos/나는 반딧불 - 황가람.f401.mp4\n",
            "[download] 100% of   99.17MiB in 00:00:02 at 38.51MiB/s  \n",
            "[download] Destination: videos/나는 반딧불 - 황가람.f251.webm\n",
            "[download] 100% of    4.07MiB in 00:00:00 at 20.01MiB/s  \n",
            "[Merger] Merging formats into \"videos/나는 반딧불 - 황가람.mp4\"\n",
            "Deleting original file videos/나는 반딧불 - 황가람.f401.mp4 (pass -k to keep)\n",
            "Deleting original file videos/나는 반딧불 - 황가람.f251.webm (pass -k to keep)\n"
          ]
        }
      ]
    },
    {
      "cell_type": "code",
      "source": [
        "# 실습문제 6\n"
      ],
      "metadata": {
        "id": "d24FDukmzu7g"
      },
      "execution_count": null,
      "outputs": []
    }
  ]
}