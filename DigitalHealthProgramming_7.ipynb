{
  "nbformat": 4,
  "nbformat_minor": 0,
  "metadata": {
    "colab": {
      "provenance": []
    },
    "kernelspec": {
      "name": "python3",
      "display_name": "Python 3"
    },
    "language_info": {
      "name": "python"
    }
  },
  "cells": [
    {
      "cell_type": "code",
      "source": [
        "!sudo apt-get install -y fonts-nanum\n",
        "!sudo fc-cache -fv\n",
        "!rm ~/.cache/matplotlib -rf\n",
        "\n",
        "import matplotlib.pyplot as plt\n",
        "import matplotlib.font_manager as fm\n",
        "\n",
        "plt.rcParams['font.family'] = 'NanumBarunGothic'\n",
        "plt.rcParams['axes.unicode_minus'] = False  # 음수 부호 깨짐 방지"
      ],
      "metadata": {
        "id": "WyBMXFv97YEl"
      },
      "execution_count": null,
      "outputs": []
    },
    {
      "cell_type": "code",
      "execution_count": null,
      "metadata": {
        "id": "AfJ8V90s6J30"
      },
      "outputs": [],
      "source": [
        "import pandas as pd\n",
        "import numpy as np\n",
        "import matplotlib.pyplot as plt\n",
        "data = pd.read_csv('NHISS-Health-1000.csv')\n",
        "\n",
        "heightdata = data['height']\n",
        "weightdata = data['weight']\n",
        "plt.figure(figsize=(10,4))\n",
        "plt.scatter(heightdata, weightdata)\n",
        "plt.xlabel('키')\n",
        "plt.ylabel('몸무게')\n",
        "plt.title('2020 건강검진 산점도 그래프')\n",
        "plt.grid()\n",
        "plt.show()"
      ]
    },
    {
      "cell_type": "code",
      "source": [
        "HDLdata = data['HDL']\n",
        "LDLdata = data['LDL']\n",
        "cholesteroldata = data['cholesterol']\n",
        "\n",
        "plt.figure(figsize=(10,6))\n",
        "plt.scatter(cholesteroldata, LDLdata, color='r', edgecolor='w', label='Cholesterol*LDL')\n",
        "plt.scatter(HDLdata, cholesteroldata, color='g', edgecolor='w', label='HDL*Cholesterol')\n",
        "plt.scatter(HDLdata, LDLdata, color='b', edgecolor='w', label='HDL*LDL')\n",
        "\n",
        "plt.xlim(0,500)\n",
        "plt.ylim(0,400)\n",
        "plt.xlabel('HDL')\n",
        "plt.ylabel('LDL')\n",
        "plt.title('2020년 건강검진 HDL-LDL 산점도 그래프')\n",
        "plt.legend()\n",
        "plt.grid()\n",
        "plt.show()"
      ],
      "metadata": {
        "id": "KTGc27tb7M-4"
      },
      "execution_count": null,
      "outputs": []
    },
    {
      "cell_type": "code",
      "source": [
        "mandata = data.loc[data.gender==1.0, ['gender','height']]\n",
        "\n",
        "plt.figure(figsize=(10,5))\n",
        "# np.histogram으로 빈도수와 간격을 구함\n",
        "plt.hist(mandata['height'], bins=np.arange(140, 201, 5), label='남성') # 2단위로 bins 설정\n",
        "plt.xlim(140, 200)\n",
        "plt.ylim(0, 160)\n",
        "plt.xlabel('키')\n",
        "plt.ylabel('빈도수')\n",
        "plt.title('2020년 건강검진 남성 키 히스토그램')\n",
        "plt.legend()\n",
        "plt.grid()\n",
        "plt.show()"
      ],
      "metadata": {
        "id": "R64fla2A7PHR"
      },
      "execution_count": null,
      "outputs": []
    },
    {
      "cell_type": "code",
      "source": [
        "mandata = data.loc[data.gender==1.0,['gender','height']]\n",
        "womandata = data.loc[data.gender==2.0,['gender','height']]\n",
        "plt.figure(figsize=(10,6))\n",
        "plt.hist(mandata['height'], bins=20, alpha=0.5, label='Man')\n",
        "plt.hist(womandata['height'], bins=20, alpha=0.5, label='Woman')\n",
        "plt.xlim(120,200)\n",
        "plt.ylim(0,180)\n",
        "plt.xlabel('키')\n",
        "plt.ylabel('빈도수')\n",
        "plt.title('2020년 건강검진 성별-키 히스토그램')\n",
        "plt.legend()\n",
        "plt.grid()\n",
        "plt.show()"
      ],
      "metadata": {
        "id": "PjsDqXo--jpo"
      },
      "execution_count": null,
      "outputs": []
    },
    {
      "cell_type": "code",
      "source": [
        "mandata = data.loc[data.gender==1.0, ['gender','weight']]\n",
        "womandata = data.loc[data.gender==2.0, ['gender','weight']]\n",
        "print(mandata.shape)\n",
        "womandata.shape"
      ],
      "metadata": {
        "id": "InuFZBJcAbfz"
      },
      "execution_count": null,
      "outputs": []
    },
    {
      "cell_type": "code",
      "source": [
        "female = np.array(womandata['weight'])\n",
        "male = np.array(mandata['weight'])\n",
        "plt.figure(figsize=(4,6))\n",
        "plt.boxplot([female,male], labels=['여성','남성'])\n",
        "plt.ylim(30,130)\n",
        "plt.xlabel('성별')\n",
        "plt.ylabel('몸무게')\n",
        "plt.title('2020년 건강검진 남성 & 여성 몸무게 상자수염 그래프')\n",
        "plt.show()"
      ],
      "metadata": {
        "id": "JdfOMyWvAER0"
      },
      "execution_count": null,
      "outputs": []
    },
    {
      "cell_type": "code",
      "source": [
        "plt.axis('equal')\n",
        "data = [2812, 967, 306, 69, 710, 29]\n",
        "categories = ['뇌질환 등', '치매', '파킨슨병', '알츠하이머', '기타', '중풍후유증']\n",
        "plt.pie(data, labels=categories, autopct='%d%%', startangle=90)\n",
        "plt.title('서울 지역  65세 이상 남성 주요 질병 비율 ')\n",
        "plt.show()"
      ],
      "metadata": {
        "id": "QbyQoAl-Ag6M"
      },
      "execution_count": null,
      "outputs": []
    },
    {
      "cell_type": "markdown",
      "source": [
        "## Seaborn 실습"
      ],
      "metadata": {
        "id": "WBVO-pKpAqKi"
      }
    },
    {
      "cell_type": "code",
      "source": [
        "import pandas as pd\n",
        "import numpy as np\n",
        "import matplotlib.pyplot as plt\n",
        "import seaborn as sns\n",
        "plt.rc('font', family='NanumBarunGothic')\n",
        "data = pd.read_csv('NHISS-Health-1000.csv')"
      ],
      "metadata": {
        "id": "GjQLSHeKAuW2"
      },
      "execution_count": null,
      "outputs": []
    },
    {
      "cell_type": "code",
      "source": [
        "data6 = data.loc[:,['gender', 'height', 'weight', 'waist', 'drinking', 'smoking']]\n",
        "data6.loc[data6['gender']==1,['gender']]='Male'\n",
        "data6.loc[data6['gender']==2,['gender']]='Female'\n",
        "data6.loc[data6['drinking']==0,['drinking']]='Non-drinking'\n",
        "data6.loc[data6['drinking']==1,['drinking']]='Drinking'\n",
        "data6.loc[(data6['smoking']==1) | (data6['smoking']==2),['smoking']]='Non-smoking'\n",
        "data6.loc[data6['smoking']==3,['smoking']]='Smoking'\n",
        "\n",
        "drinking = data6.groupby(['gender', 'drinking'])['drinking'].count()\n",
        "smoking = data6.groupby(['gender', 'smoking'])['smoking'].count()\n",
        "drinking = drinking.to_frame(name='count')\n",
        "smoking = smoking.to_frame(name='count')\n",
        "drinking = drinking.reset_index()\n",
        "smoking = smoking.reset_index()"
      ],
      "metadata": {
        "id": "oCx30bXzA3WV"
      },
      "execution_count": null,
      "outputs": []
    },
    {
      "cell_type": "code",
      "source": [
        "fig = plt.figure(figsize=(17,6))\n",
        "area1 = fig.add_subplot(1,2,1)\n",
        "area2 = fig.add_subplot(1,2,2)\n",
        "ax1 = sns.barplot(data=drinking,x='gender',y='count',hue='drinking',ax=area1)\n",
        "ax2 = sns.barplot(data=smoking,x='gender',y='count',hue='smoking',ax=area2)\n",
        "fig.suptitle('2020년 건강검진 음주 및 흡연 여부 시본 막대 그래프',fontweight='bold')\n",
        "area1.set_title('Drinking Type')\n",
        "area2.set_title('Smoking Type')\n",
        "plt.show()"
      ],
      "metadata": {
        "id": "92RW0oe2BAzv"
      },
      "execution_count": null,
      "outputs": []
    },
    {
      "cell_type": "code",
      "source": [
        "plt.figure(figsize=(5,3))\n",
        "plt.title('음주 시본 카운트 플롯 그래프',fontweight='bold')\n",
        "sns.countplot(data=data6, x='drinking', hue='gender')\n",
        "plt.show()"
      ],
      "metadata": {
        "id": "lh3s4ZcABS37"
      },
      "execution_count": null,
      "outputs": []
    },
    {
      "cell_type": "code",
      "source": [
        "plt.figure(figsize=(6,3))\n",
        "plt.title('흡연 시본 카운트 플롯 그래프',fontweight='bold')\n",
        "sns.countplot(data=data6, y='smoking', hue='gender', order=['Smoking','Non-smoking'])\n",
        "plt.show()"
      ],
      "metadata": {
        "id": "mtGM48sRBdY7"
      },
      "execution_count": null,
      "outputs": []
    },
    {
      "cell_type": "code",
      "source": [
        "male_data = data6.loc[data6.gender=='Male',['gender','weight','waist','drinking','smoking']]\n",
        "female_data = data6.loc[data6.gender=='Female',['gender','weight','waist','drinking','smoking']]\n",
        "print(min(female_data['waist']), max(male_data['waist']))"
      ],
      "metadata": {
        "id": "U2wUn1v2CKJT"
      },
      "execution_count": null,
      "outputs": []
    },
    {
      "cell_type": "code",
      "source": [
        "plt.figure(figsize=(10,5))\n",
        "plt.title('몸무게-허리둘레 시본 스트립 플롯 그래프')\n",
        "sns.stripplot(data=male_data, x='waist', y='weight')\n",
        "sns.stripplot(data=female_data, x='waist', y='weight', )\n",
        "plt.xticks(np.arange(0,128,63.5), labels=[50, 90, 130])\n",
        "plt.show()"
      ],
      "metadata": {
        "id": "U1V3oYr5CN42"
      },
      "execution_count": null,
      "outputs": []
    },
    {
      "cell_type": "code",
      "source": [
        "plt.figure(figsize=(10,5))\n",
        "plt.title('몸무게-허리둘레 스트립 플롯 그래프-팔레트 설정')\n",
        "sns.stripplot(data=male_data, x='waist', y='weight', hue='gender', palette='dark')\n",
        "sns.stripplot(data=female_data, x='waist', y='weight', hue='gender', palette='Set1')\n",
        "plt.xticks(np.arange(0,127,63), labels=[53, 90.5, 128])\n",
        "plt.show()"
      ],
      "metadata": {
        "id": "yMfRZb2KCR1P"
      },
      "execution_count": null,
      "outputs": []
    },
    {
      "cell_type": "code",
      "source": [
        "male_data_100 = male_data.head(100)\n",
        "female_data_100 = female_data.head(100)\n",
        "\n",
        "plt.figure(figsize=(10,5))\n",
        "plt.title('허리-몸무게 시본 스웜 플롯 그래프')\n",
        "sns.swarmplot(data=male_data_100,x='waist',y='weight',hue='gender',palette='dark',size=4)\n",
        "sns.swarmplot(data=female_data_100,x='waist',y='weight',hue='gender',palette='Set1',size=4)\n",
        "plt.xticks(np.arange(0,46,22.5), labels=[53, 75.5, 98])\n",
        "plt.show()"
      ],
      "metadata": {
        "id": "eb8QfdaBCYa6"
      },
      "execution_count": null,
      "outputs": []
    },
    {
      "cell_type": "code",
      "source": [
        "plt.figure(figsize=(10,6))\n",
        "plt.title('음주와 몸무게 시본 박스 플롯 그래프')\n",
        "sns.boxplot(data=data6, x='drinking', y='weight', hue='gender')\n",
        "plt.ylim(30,100)\n",
        "plt.show()"
      ],
      "metadata": {
        "id": "gjur6bawC6fi"
      },
      "execution_count": null,
      "outputs": []
    },
    {
      "cell_type": "code",
      "source": [
        "plt.figure(figsize=(10,6))\n",
        "plt.title('흡연와 몸무게 관계 수평 시본 박스 플롯 그래프')\n",
        "sns.boxplot(data=data6, x='waist', y='drinking', hue='gender', orient='h')\n",
        "plt.xlim(50,110)\n",
        "plt.show()"
      ],
      "metadata": {
        "id": "2bklJkzJDDRn"
      },
      "execution_count": null,
      "outputs": []
    },
    {
      "cell_type": "code",
      "source": [
        "plt.figure(figsize=(10,6))\n",
        "plt.title('성별에 따른 음주 여부와 몸무게 바이올린 플롯 그래프')\n",
        "sns.violinplot(data=data6[data6.weight<100], x='gender', y='weight', hue='drinking')\n",
        "plt.show()"
      ],
      "metadata": {
        "id": "IatT4FtXDH2x"
      },
      "execution_count": null,
      "outputs": []
    },
    {
      "cell_type": "code",
      "source": [
        "plt.figure(figsize=(8,5))\n",
        "plt.title('성별에 따른 음주 여부와 허리둘레 수평 바이올린 플롯 그래프')\n",
        "sns.violinplot(data=data6[data6.waist<120], y='gender', x='waist', hue='drinking')\n",
        "plt.show()"
      ],
      "metadata": {
        "id": "_8d53FyBDK40"
      },
      "execution_count": null,
      "outputs": []
    },
    {
      "cell_type": "code",
      "source": [
        "data3 = data.loc[:,['gender','weight','waist']]\n",
        "data8 = data.loc[:,['gender','weight','waist','drinking','smoking','cholesterol','HDL','LDL']]"
      ],
      "metadata": {
        "id": "qunOEJScDN6L"
      },
      "execution_count": null,
      "outputs": []
    },
    {
      "cell_type": "code",
      "source": [
        "plt.figure(figsize=(10,6))\n",
        "plt.title('3×3 히트맵 만들기')\n",
        "correlation_data3 = data3.corr()\n",
        "sns.heatmap(correlation_data3, annot=True, cmap='YlGnBu')\n",
        "plt.show()"
      ],
      "metadata": {
        "id": "kTPr3HL5DRHQ"
      },
      "execution_count": null,
      "outputs": []
    },
    {
      "cell_type": "code",
      "source": [
        "plt.figure(figsize=(13,10))\n",
        "plt.title('8×8 히트맵 만들기')\n",
        "correlation_data8= data8.corr()\n",
        "upp_mat = np.triu(correlation_data8)\n",
        "sns.heatmap(correlation_data8, annot=True, cmap='RdYlGn', mask=upp_mat)\n",
        "plt.show()"
      ],
      "metadata": {
        "id": "8j3exvI7DUmb"
      },
      "execution_count": null,
      "outputs": []
    },
    {
      "cell_type": "code",
      "source": [
        "fg = sns.FacetGrid(data6, col='drinking', height=5, aspect=1.3)\n",
        "fg.map(sns.histplot, 'waist', bins=10, color='g', kde=True)\n",
        "plt.show()"
      ],
      "metadata": {
        "id": "qHWKLyJIDZiU"
      },
      "execution_count": null,
      "outputs": []
    },
    {
      "cell_type": "code",
      "source": [
        "fg = sns.FacetGrid(data6, row='gender', col='drinking', height=4.5, aspect=1.5)\n",
        "fg.map(sns.histplot, 'waist', bins=10, color='deeppink', kde=True)\n",
        "plt.show()"
      ],
      "metadata": {
        "id": "0KBVlGFFDdug"
      },
      "execution_count": null,
      "outputs": []
    },
    {
      "cell_type": "code",
      "source": [
        "color = ['#00994C', '#FF007F']\n",
        "pp = sns.PairGrid(data6, hue='gender', palette=color, height=3.3, aspect=1.3)\n",
        "pp.map_diag(sns.histplot, bins=10)\n",
        "pp.map_offdiag(sns.scatterplot)\n",
        "pp.add_legend()\n",
        "plt.show()"
      ],
      "metadata": {
        "id": "kexROnF3Dlvk"
      },
      "execution_count": null,
      "outputs": []
    }
  ]
}