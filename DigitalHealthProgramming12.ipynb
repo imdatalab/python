{
  "nbformat": 4,
  "nbformat_minor": 0,
  "metadata": {
    "colab": {
      "provenance": []
    },
    "kernelspec": {
      "name": "python3",
      "display_name": "Python 3"
    },
    "language_info": {
      "name": "python"
    }
  },
  "cells": [
    {
      "cell_type": "code",
      "source": [
        "import numpy as np\n",
        "import pandas as pd\n",
        "import matplotlib.pyplot as plt\n",
        "import seaborn as sns\n",
        "\n",
        "df = pd.read_csv('/content/diabetes.csv')\n",
        "df.head(10)"
      ],
      "metadata": {
        "id": "rGxWTdCxpiOe"
      },
      "execution_count": null,
      "outputs": []
    },
    {
      "cell_type": "code",
      "source": [
        "from sklearn.model_selection import train_test_split\n",
        "from sklearn.metrics import accuracy_score, precision_score, recall_score, f1_score\n",
        "from sklearn.metrics import confusion_matrix, classification_report\n",
        "from sklearn.linear_model import LogisticRegression\n",
        "\n",
        "X = df.drop([\"Outcome\"], axis=1)\n",
        "y = df[\"Outcome\"]\n",
        "\n",
        "\n",
        "X_train, X_test, y_train, y_test = train_test_split(X, y, test_size=0.25, random_state=0)"
      ],
      "metadata": {
        "id": "iNPCSn0tppbw"
      },
      "execution_count": null,
      "outputs": []
    },
    {
      "cell_type": "code",
      "source": [
        "# Logistic Regression Model\n",
        "LR = LogisticRegression(max_iter=1000, random_state=42)\n",
        "\n",
        "#fiting the model\n",
        "LR.fit(X_train, y_train)\n",
        "\n",
        "#prediction\n",
        "y_pred = LR.predict(X_test)\n",
        "\n",
        "print('train_accuracy: {:.4f}'.format(LR.score(X_train, y_train)))\n",
        "print('accuracy: {:.4f}'.format(accuracy_score(y_test, y_pred)))\n",
        "print('precision: {:.4f}'.format(precision_score(y_test, y_pred)))\n",
        "print('recall: {:.4f}'.format(recall_score(y_test, y_pred)))\n",
        "print('f1-score: {:.4f}'.format(f1_score(y_test, y_pred)))\n",
        "\n",
        "conf_matrix = confusion_matrix(y_test, y_pred)\n",
        "plt.figure(figsize=(3, 2))\n",
        "sns.heatmap(conf_matrix, annot=True, fmt='d', cmap='Blues')\n",
        "plt.title('Confusion Matrix')\n",
        "plt.ylabel('True Label')\n",
        "plt.xlabel('Predicted Label')\n",
        "plt.show()"
      ],
      "metadata": {
        "id": "qYotloPHpsxe"
      },
      "execution_count": null,
      "outputs": []
    },
    {
      "cell_type": "code",
      "source": [
        "from sklearn.tree import DecisionTreeClassifier\n",
        "dt_clf = DecisionTreeClassifier()\n",
        "dt_clf.fit(X_train, y_train)\n",
        "dt_pred = dt_clf.predict(X_test)\n",
        "\n",
        "print('train_accuracy: {:.4f}'.format(dt_clf.score(X_train, y_train)))\n",
        "print('accuracy: {:.4f}'.format(accuracy_score(y_test, dt_pred)))\n",
        "print('precision: {:.4f}'.format(precision_score(y_test, dt_pred)))\n",
        "print('recall: {:.4f}'.format(recall_score(y_test, dt_pred)))\n",
        "print('f1-score: {:.4f}'.format(f1_score(y_test, dt_pred)))\n",
        "\n",
        "conf_matrix = confusion_matrix(y_test, dt_pred)\n",
        "plt.figure(figsize=(3, 2))\n",
        "sns.heatmap(conf_matrix, annot=True, fmt='d', cmap='Blues')\n",
        "plt.title('Confusion Matrix')\n",
        "plt.ylabel('True Label')\n",
        "plt.xlabel('Predicted Label')\n",
        "plt.show()"
      ],
      "metadata": {
        "id": "9HOLQMHip12t"
      },
      "execution_count": null,
      "outputs": []
    },
    {
      "cell_type": "code",
      "execution_count": null,
      "metadata": {
        "id": "kbPhZbgCpE42"
      },
      "outputs": [],
      "source": [
        "# evaluate Method\n",
        "from sklearn.metrics import confusion_matrix, accuracy_score, classification_report\n",
        "def evaluate(model, X_train, X_test, y_train, y_test):\n",
        "    y_test_pred = model.predict(X_test)\n",
        "    y_train_pred = model.predict(X_train)\n",
        "\n",
        "    print(\"TRAINIG RESULTS: \\n===============================\")\n",
        "    clf_report = pd.DataFrame(classification_report(y_train, y_train_pred, output_dict=True))\n",
        "    print(f\"CONFUSION MATRIX:\\n{confusion_matrix(y_train, y_train_pred)}\")\n",
        "    print(f\"ACCURACY SCORE:\\n{accuracy_score(y_train, y_train_pred):.4f}\")\n",
        "    print(f\"CLASSIFICATION REPORT:\\n{clf_report}\")\n",
        "\n",
        "    print(\"\\nTESTING RESULTS: \\n===============================\")\n",
        "    clf_report = pd.DataFrame(classification_report(y_test, y_test_pred, output_dict=True))\n",
        "    print(f\"CONFUSION MATRIX:\\n{confusion_matrix(y_test, y_test_pred)}\")\n",
        "    print(f\"ACCURACY SCORE:\\n{accuracy_score(y_test, y_test_pred):.4f}\")\n",
        "    print(f\"CLASSIFICATION REPORT:\\n{clf_report}\")"
      ]
    },
    {
      "cell_type": "code",
      "source": [
        "evaluate(LR, X_train, X_test, y_train, y_test)"
      ],
      "metadata": {
        "id": "6hkXpe_0qIJR"
      },
      "execution_count": null,
      "outputs": []
    },
    {
      "cell_type": "code",
      "source": [
        "evaluate(dt_clf, X_train, X_test, y_train, y_test)"
      ],
      "metadata": {
        "id": "ApAvAclMqUng"
      },
      "execution_count": null,
      "outputs": []
    },
    {
      "cell_type": "code",
      "source": [
        "# Random Forest Model\n",
        "from sklearn.ensemble import BaggingClassifier\n",
        "from sklearn.ensemble import RandomForestClassifier\n",
        "\n",
        "RF_clf = RandomForestClassifier(n_estimators=100, random_state=42)\n",
        "\n",
        "RF_clf.fit(X_train, y_train)\n",
        "\n",
        "evaluate(RF_clf, X_train, X_test, y_train, y_test)"
      ],
      "metadata": {
        "id": "2mm9_WJbqe3a"
      },
      "execution_count": null,
      "outputs": []
    },
    {
      "cell_type": "code",
      "source": [
        "RF_clf = RandomForestClassifier(n_estimators=1000, random_state=42)\n",
        "\n",
        "RF_clf.fit(X_train, y_train)\n",
        "\n",
        "evaluate(RF_clf, X_train, X_test, y_train, y_test)"
      ],
      "metadata": {
        "id": "Pqim7BdDqjHB"
      },
      "execution_count": null,
      "outputs": []
    },
    {
      "cell_type": "code",
      "source": [
        "# AdaBoost Model\n",
        "from sklearn.ensemble import AdaBoostClassifier\n",
        "\n",
        "Ada_clf = AdaBoostClassifier(n_estimators=1000, random_state=42)\n",
        "\n",
        "Ada_clf.fit(X_train, y_train)\n",
        "\n",
        "evaluate(Ada_clf, X_train, X_test, y_train, y_test)"
      ],
      "metadata": {
        "id": "118Y0W2Cq1Bt"
      },
      "execution_count": null,
      "outputs": []
    },
    {
      "cell_type": "code",
      "source": [
        "# GBM Model max_depth=5,\n",
        "from sklearn.ensemble import GradientBoostingClassifier\n",
        "\n",
        "GBM_clf = GradientBoostingClassifier(n_estimators=1000, learning_rate=0.01, random_state=42)\n",
        "\n",
        "GBM_clf.fit(X_train, y_train)\n",
        "\n",
        "evaluate(GBM_clf, X_train, X_test, y_train, y_test)"
      ],
      "metadata": {
        "id": "YsWnKEnurHQM"
      },
      "execution_count": null,
      "outputs": []
    },
    {
      "cell_type": "code",
      "source": [
        "# XGBoost Model\n",
        "from xgboost import XGBClassifier\n",
        "\n",
        "XGB_clf = XGBClassifier(n_estimators=1000, learning_rate=0.01, random_state=42)\n",
        "\n",
        "XGB_clf.fit(X_train, y_train)\n",
        "\n",
        "evaluate(XGB_clf, X_train, X_test, y_train, y_test)"
      ],
      "metadata": {
        "id": "-3aovITYrf9c"
      },
      "execution_count": null,
      "outputs": []
    },
    {
      "cell_type": "code",
      "source": [
        "# LightGBM Model\n",
        "from lightgbm import LGBMClassifier\n",
        "\n",
        "LGBM_clf = LGBMClassifier(\n",
        "    n_estimators=1000,\n",
        "    learning_rate=0.01,\n",
        "    random_state=42,\n",
        "    max_depth=3,\n",
        "    num_leaves=8,\n",
        "    min_child_samples=20,\n",
        "    verbose=-1\n",
        "    )\n",
        "\n",
        "LGBM_clf.fit(X_train, y_train)\n",
        "\n",
        "evaluate(LGBM_clf, X_train, X_test, y_train, y_test)"
      ],
      "metadata": {
        "id": "EhRweumgrlNE"
      },
      "execution_count": null,
      "outputs": []
    },
    {
      "cell_type": "code",
      "source": [
        "!pip install catboost"
      ],
      "metadata": {
        "id": "An_iRaHPrqGI"
      },
      "execution_count": null,
      "outputs": []
    },
    {
      "cell_type": "code",
      "source": [
        "from catboost import CatBoostClassifier\n",
        "\n",
        "CB_clf = CatBoostClassifier(\n",
        "    n_estimators=1000,\n",
        "    learning_rate=0.01,\n",
        "    random_state=42,\n",
        "    max_depth=3,\n",
        "    verbose=0\n",
        ")\n",
        "\n",
        "CB_clf.fit(X_train, y_train)\n",
        "\n",
        "evaluate(CB_clf, X_train, X_test, y_train, y_test)"
      ],
      "metadata": {
        "id": "0OpJ7B8AtWil"
      },
      "execution_count": null,
      "outputs": []
    },
    {
      "cell_type": "code",
      "source": [
        "import shap\n",
        "import matplotlib.pyplot as plt\n",
        "\n",
        "# Step 1: TreeExplainer로 SHAP값 계산\n",
        "explainer = shap.TreeExplainer(CB_clf)\n",
        "shap_values = explainer.shap_values(X_test)\n",
        "\n",
        "# Step 2: 요약 플롯 (Summary Plot)\n",
        "plt.title(\"SHAP Summary Plot (X_test)\")\n",
        "shap.summary_plot(shap_values, X_test)\n",
        "\n",
        "# Step 3: 상위 feature 중요도 바 그래프\n",
        "plt.title(\"SHAP Feature Importance (Bar)\")\n",
        "shap.summary_plot(shap_values, X_test, plot_type=\"bar\")\n",
        "\n",
        "# Step : 단일 예측에 대한 SHAP force plot 시각화\n",
        "sample_idx = 0\n",
        "shap.initjs()\n",
        "shap.force_plot(explainer.expected_value, shap_values[sample_idx], X_test.iloc[sample_idx])\n"
      ],
      "metadata": {
        "id": "P6AAtyE0x5t6"
      },
      "execution_count": null,
      "outputs": []
    }
  ]
}